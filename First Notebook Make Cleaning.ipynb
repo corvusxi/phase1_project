{
 "cells": [
  {
   "cell_type": "code",
   "execution_count": 1,
   "id": "441bd054",
   "metadata": {},
   "outputs": [],
   "source": [
    "import pandas as pd\n",
    "import matplotlib.pyplot as plt\n",
    "import datetime\n",
    "from fuzzywuzzy import fuzz\n",
    "from fuzzywuzzy import process\n",
    "%matplotlib inline"
   ]
  },
  {
   "cell_type": "code",
   "execution_count": 2,
   "id": "8cbd6f56",
   "metadata": {
    "scrolled": true
   },
   "outputs": [
    {
     "data": {
      "text/plain": [
       "Aircraft.Category\n",
       "Airplane             27617\n",
       "Helicopter            3440\n",
       "Glider                 508\n",
       "Balloon                231\n",
       "Gyrocraft              173\n",
       "Weight-Shift           161\n",
       "Powered Parachute       91\n",
       "Ultralight              30\n",
       "Unknown                 14\n",
       "WSFT                     9\n",
       "Powered-Lift             5\n",
       "Blimp                    4\n",
       "UNK                      2\n",
       "Rocket                   1\n",
       "ULTR                     1\n",
       "Name: count, dtype: int64"
      ]
     },
     "execution_count": 2,
     "metadata": {},
     "output_type": "execute_result"
    }
   ],
   "source": [
    "df = pd.read_csv(\"data/AviationData.csv\", encoding = \"latin-1\", low_memory = False)\n",
    "\n",
    "df[\"Aircraft.Category\"].value_counts()"
   ]
  },
  {
   "cell_type": "code",
   "execution_count": 3,
   "id": "efc30b02",
   "metadata": {},
   "outputs": [
    {
     "data": {
      "text/plain": [
       "(88889, 31)"
      ]
     },
     "execution_count": 3,
     "metadata": {},
     "output_type": "execute_result"
    }
   ],
   "source": [
    "df.shape"
   ]
  },
  {
   "cell_type": "code",
   "execution_count": 4,
   "id": "ba30d0d6",
   "metadata": {},
   "outputs": [],
   "source": [
    "airplane_df = df[df[\"Aircraft.Category\"] == \"Airplane\"]"
   ]
  },
  {
   "cell_type": "code",
   "execution_count": 5,
   "id": "4efd765e",
   "metadata": {},
   "outputs": [
    {
     "data": {
      "text/plain": [
       "(27617, 31)"
      ]
     },
     "execution_count": 5,
     "metadata": {},
     "output_type": "execute_result"
    }
   ],
   "source": [
    "# Confirming Aircraft that are not Airplanes are removed\n",
    "airplane_df.shape"
   ]
  },
  {
   "cell_type": "code",
   "execution_count": 6,
   "id": "6c84285a",
   "metadata": {},
   "outputs": [
    {
     "data": {
      "text/plain": [
       "['Event.Id',\n",
       " 'Investigation.Type',\n",
       " 'Accident.Number',\n",
       " 'Event.Date',\n",
       " 'Location',\n",
       " 'Country',\n",
       " 'Latitude',\n",
       " 'Longitude',\n",
       " 'Airport.Code',\n",
       " 'Airport.Name',\n",
       " 'Injury.Severity',\n",
       " 'Aircraft.damage',\n",
       " 'Aircraft.Category',\n",
       " 'Registration.Number',\n",
       " 'Make',\n",
       " 'Model',\n",
       " 'Amateur.Built',\n",
       " 'Number.of.Engines',\n",
       " 'Engine.Type',\n",
       " 'FAR.Description',\n",
       " 'Schedule',\n",
       " 'Purpose.of.flight',\n",
       " 'Air.carrier',\n",
       " 'Total.Fatal.Injuries',\n",
       " 'Total.Serious.Injuries',\n",
       " 'Total.Minor.Injuries',\n",
       " 'Total.Uninjured',\n",
       " 'Weather.Condition',\n",
       " 'Broad.phase.of.flight',\n",
       " 'Report.Status',\n",
       " 'Publication.Date']"
      ]
     },
     "execution_count": 6,
     "metadata": {},
     "output_type": "execute_result"
    }
   ],
   "source": [
    "list(airplane_df.columns)"
   ]
  },
  {
   "cell_type": "code",
   "execution_count": 7,
   "id": "faaab57b",
   "metadata": {},
   "outputs": [
    {
     "data": {
      "text/plain": [
       "Make\n",
       "CESSNA             4867\n",
       "Cessna             3608\n",
       "PIPER              2805\n",
       "Piper              1910\n",
       "BOEING             1037\n",
       "                   ... \n",
       "GLINES                1\n",
       "RAMMEL THOMAS W       1\n",
       "HEMMER                1\n",
       "W.H. Hunnicutt        1\n",
       "ORLICAN S R O         1\n",
       "Name: count, Length: 3874, dtype: int64"
      ]
     },
     "execution_count": 7,
     "metadata": {},
     "output_type": "execute_result"
    }
   ],
   "source": [
    "airplane_df[\"Make\"].value_counts()"
   ]
  },
  {
   "cell_type": "code",
   "execution_count": 8,
   "id": "c77082f0",
   "metadata": {},
   "outputs": [
    {
     "name": "stderr",
     "output_type": "stream",
     "text": [
      "/var/folders/r8/z6sbv4bn0d7c1qrrskxpsmmw0000gn/T/ipykernel_1199/2976310380.py:1: SettingWithCopyWarning: \n",
      "A value is trying to be set on a copy of a slice from a DataFrame.\n",
      "Try using .loc[row_indexer,col_indexer] = value instead\n",
      "\n",
      "See the caveats in the documentation: https://pandas.pydata.org/pandas-docs/stable/user_guide/indexing.html#returning-a-view-versus-a-copy\n",
      "  airplane_df[\"Make\"] = airplane_df[\"Make\"].str.upper()\n"
     ]
    }
   ],
   "source": [
    "airplane_df[\"Make\"] = airplane_df[\"Make\"].str.upper()"
   ]
  },
  {
   "cell_type": "code",
   "execution_count": 9,
   "id": "be0ecb1b",
   "metadata": {},
   "outputs": [
    {
     "data": {
      "text/plain": [
       "Make\n",
       "CESSNA             8475\n",
       "PIPER              4715\n",
       "BEECH              1692\n",
       "BOEING             1324\n",
       "MOONEY              419\n",
       "                   ... \n",
       "RAMMEL THOMAS W       1\n",
       "HEMMER                1\n",
       "W.H. HUNNICUTT        1\n",
       "CARR BRYAN            1\n",
       "ORLICAN S R O         1\n",
       "Name: count, Length: 3537, dtype: int64"
      ]
     },
     "execution_count": 9,
     "metadata": {},
     "output_type": "execute_result"
    }
   ],
   "source": [
    "airplane_df[\"Make\"].value_counts()"
   ]
  },
  {
   "cell_type": "code",
   "execution_count": 10,
   "id": "7acd3f33",
   "metadata": {},
   "outputs": [
    {
     "name": "stderr",
     "output_type": "stream",
     "text": [
      "/var/folders/r8/z6sbv4bn0d7c1qrrskxpsmmw0000gn/T/ipykernel_1199/2993539753.py:2: SettingWithCopyWarning: \n",
      "A value is trying to be set on a copy of a slice from a DataFrame.\n",
      "Try using .loc[row_indexer,col_indexer] = value instead\n",
      "\n",
      "See the caveats in the documentation: https://pandas.pydata.org/pandas-docs/stable/user_guide/indexing.html#returning-a-view-versus-a-copy\n",
      "  airplane_df[\"Make\"] = airplane_df[\"Make\"].replace(to_replace=[\"CESSNA AIRCRAFT CO\", \"CESSNA AIRCRAFT COMPANY\", \"CESSNA AIRCRAFT\", \"CESSNA ECTOR\", \"CESSNA SKYHAWK II\", \"CESSNA AIRCRAFT CO\"], value=\"CESSNA\")\n"
     ]
    }
   ],
   "source": [
    "# Cessna\n",
    "airplane_df[\"Make\"] = airplane_df[\"Make\"].replace(to_replace=[\"CESSNA AIRCRAFT CO\", \"CESSNA AIRCRAFT COMPANY\", \"CESSNA AIRCRAFT\", \"CESSNA ECTOR\", \"CESSNA SKYHAWK II\", \"CESSNA AIRCRAFT CO\"], value=\"CESSNA\")"
   ]
  },
  {
   "cell_type": "code",
   "execution_count": 11,
   "id": "4c8e06c3",
   "metadata": {},
   "outputs": [
    {
     "name": "stderr",
     "output_type": "stream",
     "text": [
      "/var/folders/r8/z6sbv4bn0d7c1qrrskxpsmmw0000gn/T/ipykernel_1199/2631299807.py:2: SettingWithCopyWarning: \n",
      "A value is trying to be set on a copy of a slice from a DataFrame.\n",
      "Try using .loc[row_indexer,col_indexer] = value instead\n",
      "\n",
      "See the caveats in the documentation: https://pandas.pydata.org/pandas-docs/stable/user_guide/indexing.html#returning-a-view-versus-a-copy\n",
      "  airplane_df[\"Make\"] = airplane_df[\"Make\"].replace(to_replace=[\"PIPER AIRCRAFT INC\", \"PIPER AIRCRAFT CORPORATION\", \"PIPER AIRCRAFT\", \"NEW PIPER AIRCRAFT INC\", \"'PIPER AIRCRAFT, INC.'\", \"NEW PIPER\", \"PIPER AEROSTAR\", \"PIPER-AEROSTAR\", \"PIPER PAWNEE\", \"JETPROP DLX PIPER\"], value=\"PIPER\")\n"
     ]
    }
   ],
   "source": [
    "# Piper\n",
    "airplane_df[\"Make\"] = airplane_df[\"Make\"].replace(to_replace=[\"PIPER AIRCRAFT INC\", \"PIPER AIRCRAFT CORPORATION\", \"PIPER AIRCRAFT\", \"NEW PIPER AIRCRAFT INC\", \"'PIPER AIRCRAFT, INC.'\", \"NEW PIPER\", \"PIPER AEROSTAR\", \"PIPER-AEROSTAR\", \"PIPER PAWNEE\", \"JETPROP DLX PIPER\"], value=\"PIPER\")"
   ]
  },
  {
   "cell_type": "code",
   "execution_count": 12,
   "id": "d32646f8",
   "metadata": {},
   "outputs": [
    {
     "name": "stderr",
     "output_type": "stream",
     "text": [
      "/var/folders/r8/z6sbv4bn0d7c1qrrskxpsmmw0000gn/T/ipykernel_1199/3257381908.py:2: SettingWithCopyWarning: \n",
      "A value is trying to be set on a copy of a slice from a DataFrame.\n",
      "Try using .loc[row_indexer,col_indexer] = value instead\n",
      "\n",
      "See the caveats in the documentation: https://pandas.pydata.org/pandas-docs/stable/user_guide/indexing.html#returning-a-view-versus-a-copy\n",
      "  airplane_df[\"Make\"] = airplane_df[\"Make\"].replace(to_replace=[\"BEECHCRAFT\", \"HAWKER BEECHCRAFT\", \"HAWKER BEECHCRAFT CORP\", \"HAWKER BEECHCRAFT CORPORATION\", \"HAWKER BEECHCRAFT CORP.\", \"BEECH AIRCRAFT CORPORATION\", \"BEECH AIRCRAFT\", \"HAWKER BEECH\", \"HAWKER-BEECHCRAFT\", \"BEECH AIRCRAFT CO.\", \"BEECH AIRCRAFT CORP\", \"BEECHCRAFT CORPORATION\", \"HAWKER-BEECHCRAFT CORPORATION\", \"HAWKER\", \"HAWKER SIDDELEY\", \"HAWKER AIRCRAFT LTD\"], value=\"BEECH\")\n"
     ]
    }
   ],
   "source": [
    "# The Beechcraft and Hawker companies merged, it is now called Beechcraft\n",
    "airplane_df[\"Make\"] = airplane_df[\"Make\"].replace(to_replace=[\"BEECHCRAFT\", \"HAWKER BEECHCRAFT\", \"HAWKER BEECHCRAFT CORP\", \"HAWKER BEECHCRAFT CORPORATION\", \"HAWKER BEECHCRAFT CORP.\", \"BEECH AIRCRAFT CORPORATION\", \"BEECH AIRCRAFT\", \"HAWKER BEECH\", \"HAWKER-BEECHCRAFT\", \"BEECH AIRCRAFT CO.\", \"BEECH AIRCRAFT CORP\", \"BEECHCRAFT CORPORATION\", \"HAWKER-BEECHCRAFT CORPORATION\", \"HAWKER\", \"HAWKER SIDDELEY\", \"HAWKER AIRCRAFT LTD\"], value=\"BEECH\")"
   ]
  },
  {
   "cell_type": "code",
   "execution_count": 13,
   "id": "6dd6adf7",
   "metadata": {},
   "outputs": [
    {
     "name": "stderr",
     "output_type": "stream",
     "text": [
      "/var/folders/r8/z6sbv4bn0d7c1qrrskxpsmmw0000gn/T/ipykernel_1199/3533847294.py:2: SettingWithCopyWarning: \n",
      "A value is trying to be set on a copy of a slice from a DataFrame.\n",
      "Try using .loc[row_indexer,col_indexer] = value instead\n",
      "\n",
      "See the caveats in the documentation: https://pandas.pydata.org/pandas-docs/stable/user_guide/indexing.html#returning-a-view-versus-a-copy\n",
      "  airplane_df[\"Make\"] = airplane_df[\"Make\"].replace(to_replace=[\"THE BOEING COMPANY\", \"BOEING COMPANY\", \"BOEING STEARMAN\", \"'BOEING COMPANY, LONG BEACH DIV'\", \"BOEING-STEARMAN\", \"BOEING 777-306ER\", \"BOEING (STEARMAN)\", \"BOEING COMMERCIAL AIRPLANE GRO\", \"BOEING OF CANADA/DEHAV DIV\", \"STEARMAN\", \"STEARMAN AIRCRAFT\"], value=\"BOEING\")\n"
     ]
    }
   ],
   "source": [
    "# Stearman merged into Boeing\n",
    "airplane_df[\"Make\"] = airplane_df[\"Make\"].replace(to_replace=[\"THE BOEING COMPANY\", \"BOEING COMPANY\", \"BOEING STEARMAN\", \"'BOEING COMPANY, LONG BEACH DIV'\", \"BOEING-STEARMAN\", \"BOEING 777-306ER\", \"BOEING (STEARMAN)\", \"BOEING COMMERCIAL AIRPLANE GRO\", \"BOEING OF CANADA/DEHAV DIV\", \"STEARMAN\", \"STEARMAN AIRCRAFT\"], value=\"BOEING\")"
   ]
  },
  {
   "cell_type": "code",
   "execution_count": 14,
   "id": "6586aa97",
   "metadata": {},
   "outputs": [
    {
     "name": "stderr",
     "output_type": "stream",
     "text": [
      "/var/folders/r8/z6sbv4bn0d7c1qrrskxpsmmw0000gn/T/ipykernel_1199/1050750423.py:2: SettingWithCopyWarning: \n",
      "A value is trying to be set on a copy of a slice from a DataFrame.\n",
      "Try using .loc[row_indexer,col_indexer] = value instead\n",
      "\n",
      "See the caveats in the documentation: https://pandas.pydata.org/pandas-docs/stable/user_guide/indexing.html#returning-a-view-versus-a-copy\n",
      "  airplane_df[\"Make\"] = airplane_df[\"Make\"].replace(to_replace=[\"MOONEY AIRCRAFT CORP.\", \"MOONEY AIRPLANE CO INC\", \"MOONEY INTERNATIONAL CORP\", \"MOONEY AIRCRAFT CORPORATION\", \"MOONEY AIRCRAFT CORP\", \"'MOONEY AIRPLANE COMPANY, INC.'\"], value=\"MOONEY\")\n"
     ]
    }
   ],
   "source": [
    "# Mooney\n",
    "airplane_df[\"Make\"] = airplane_df[\"Make\"].replace(to_replace=[\"MOONEY AIRCRAFT CORP.\", \"MOONEY AIRPLANE CO INC\", \"MOONEY INTERNATIONAL CORP\", \"MOONEY AIRCRAFT CORPORATION\", \"MOONEY AIRCRAFT CORP\", \"'MOONEY AIRPLANE COMPANY, INC.'\"], value=\"MOONEY\")"
   ]
  },
  {
   "cell_type": "code",
   "execution_count": 15,
   "id": "8e18b735",
   "metadata": {},
   "outputs": [
    {
     "name": "stderr",
     "output_type": "stream",
     "text": [
      "/var/folders/r8/z6sbv4bn0d7c1qrrskxpsmmw0000gn/T/ipykernel_1199/2465706335.py:2: SettingWithCopyWarning: \n",
      "A value is trying to be set on a copy of a slice from a DataFrame.\n",
      "Try using .loc[row_indexer,col_indexer] = value instead\n",
      "\n",
      "See the caveats in the documentation: https://pandas.pydata.org/pandas-docs/stable/user_guide/indexing.html#returning-a-view-versus-a-copy\n",
      "  airplane_df[\"Make\"] = airplane_df[\"Make\"].replace(to_replace=[\"GRUMMAN ACFT ENG COR-SCHWEIZER\", \"GRUMMAN AMERICAN AVN. CORP\", \"GRUMMAN AMERICAN\", \"GRUMMAN-SCHWEIZER\", \"GRUMMAN AIRCRAFT ENG CORP\", \"GRUMMAN ACFT ENG\", \"GRUMMAN AMERICAN AVIATION\", \"GRUMMAN SCHWEIZER\", \"GRUMMAN AIRCRAFT COR-SCHWEIZER\", \"GRUMMAN AMERICAN AVN. CORP\", \"GRUMMAN AMERICAN CORPORATION\", \"GRUMMAN AIRCRAFT\", \"GRUMMAN ACFT ENG COR\", \"GRUMMAN AMERICAN AVIATION CORP\", \"NORTHROP\"], value=\"GRUMMAN\")\n"
     ]
    }
   ],
   "source": [
    "# Grumann and Northrop merged\n",
    "airplane_df[\"Make\"] = airplane_df[\"Make\"].replace(to_replace=[\"GRUMMAN ACFT ENG COR-SCHWEIZER\", \"GRUMMAN AMERICAN AVN. CORP\", \"GRUMMAN AMERICAN\", \"GRUMMAN-SCHWEIZER\", \"GRUMMAN AIRCRAFT ENG CORP\", \"GRUMMAN ACFT ENG\", \"GRUMMAN AMERICAN AVIATION\", \"GRUMMAN SCHWEIZER\", \"GRUMMAN AIRCRAFT COR-SCHWEIZER\", \"GRUMMAN AMERICAN AVN. CORP\", \"GRUMMAN AMERICAN CORPORATION\", \"GRUMMAN AIRCRAFT\", \"GRUMMAN ACFT ENG COR\", \"GRUMMAN AMERICAN AVIATION CORP\", \"NORTHROP\"], value=\"GRUMMAN\")"
   ]
  },
  {
   "cell_type": "code",
   "execution_count": 16,
   "id": "93518737",
   "metadata": {},
   "outputs": [
    {
     "name": "stderr",
     "output_type": "stream",
     "text": [
      "/var/folders/r8/z6sbv4bn0d7c1qrrskxpsmmw0000gn/T/ipykernel_1199/401011876.py:2: SettingWithCopyWarning: \n",
      "A value is trying to be set on a copy of a slice from a DataFrame.\n",
      "Try using .loc[row_indexer,col_indexer] = value instead\n",
      "\n",
      "See the caveats in the documentation: https://pandas.pydata.org/pandas-docs/stable/user_guide/indexing.html#returning-a-view-versus-a-copy\n",
      "  airplane_df[\"Make\"] = airplane_df[\"Make\"].replace(to_replace=[\"AIRBUS INDUSTRIE\"], value=\"AIRBUS\")\n"
     ]
    }
   ],
   "source": [
    "# Airbus\n",
    "airplane_df[\"Make\"] = airplane_df[\"Make\"].replace(to_replace=[\"AIRBUS INDUSTRIE\"], value=\"AIRBUS\")"
   ]
  },
  {
   "cell_type": "code",
   "execution_count": 17,
   "id": "78f6b344",
   "metadata": {},
   "outputs": [
    {
     "name": "stderr",
     "output_type": "stream",
     "text": [
      "/var/folders/r8/z6sbv4bn0d7c1qrrskxpsmmw0000gn/T/ipykernel_1199/2531925703.py:2: SettingWithCopyWarning: \n",
      "A value is trying to be set on a copy of a slice from a DataFrame.\n",
      "Try using .loc[row_indexer,col_indexer] = value instead\n",
      "\n",
      "See the caveats in the documentation: https://pandas.pydata.org/pandas-docs/stable/user_guide/indexing.html#returning-a-view-versus-a-copy\n",
      "  airplane_df[\"Make\"] = airplane_df[\"Make\"].replace(to_replace=[\"MAULE AIRCRAFT CORP\"], value=\"MAULE\")\n"
     ]
    }
   ],
   "source": [
    "# Maule\n",
    "airplane_df[\"Make\"] = airplane_df[\"Make\"].replace(to_replace=[\"MAULE AIRCRAFT CORP\"], value=\"MAULE\")"
   ]
  },
  {
   "cell_type": "code",
   "execution_count": 18,
   "id": "d24b6336",
   "metadata": {},
   "outputs": [
    {
     "name": "stderr",
     "output_type": "stream",
     "text": [
      "/var/folders/r8/z6sbv4bn0d7c1qrrskxpsmmw0000gn/T/ipykernel_1199/3831941229.py:2: SettingWithCopyWarning: \n",
      "A value is trying to be set on a copy of a slice from a DataFrame.\n",
      "Try using .loc[row_indexer,col_indexer] = value instead\n",
      "\n",
      "See the caveats in the documentation: https://pandas.pydata.org/pandas-docs/stable/user_guide/indexing.html#returning-a-view-versus-a-copy\n",
      "  airplane_df[\"Make\"] = airplane_df[\"Make\"].replace(to_replace=[\"AERONCA AIRCRAFT CORPORATION\", \"AERONCA CHAMPION\", \"AERONCA CHAMP\"], value=\"AERONCA\")\n"
     ]
    }
   ],
   "source": [
    "# Aeronca\n",
    "airplane_df[\"Make\"] = airplane_df[\"Make\"].replace(to_replace=[\"AERONCA AIRCRAFT CORPORATION\", \"AERONCA CHAMPION\", \"AERONCA CHAMP\"], value=\"AERONCA\")"
   ]
  },
  {
   "cell_type": "code",
   "execution_count": 19,
   "id": "b1d83086",
   "metadata": {},
   "outputs": [
    {
     "data": {
      "text/plain": [
       "Make\n",
       "CESSNA      8525\n",
       "PIPER       4772\n",
       "BEECH       1785\n",
       "BOEING      1371\n",
       "MOONEY       466\n",
       "GRUMMAN      381\n",
       "AIRBUS       288\n",
       "BELLANCA     282\n",
       "MAULE        233\n",
       "AERONCA      232\n",
       "Name: count, dtype: int64"
      ]
     },
     "execution_count": 19,
     "metadata": {},
     "output_type": "execute_result"
    }
   ],
   "source": [
    "# Top 10\n",
    "airplane_df[\"Make\"].value_counts().head(10)"
   ]
  },
  {
   "cell_type": "code",
   "execution_count": 20,
   "id": "9a8bc587",
   "metadata": {},
   "outputs": [
    {
     "data": {
      "text/html": [
       "<div>\n",
       "<style scoped>\n",
       "    .dataframe tbody tr th:only-of-type {\n",
       "        vertical-align: middle;\n",
       "    }\n",
       "\n",
       "    .dataframe tbody tr th {\n",
       "        vertical-align: top;\n",
       "    }\n",
       "\n",
       "    .dataframe thead th {\n",
       "        text-align: right;\n",
       "    }\n",
       "</style>\n",
       "<table border=\"1\" class=\"dataframe\">\n",
       "  <thead>\n",
       "    <tr style=\"text-align: right;\">\n",
       "      <th></th>\n",
       "      <th>Event.Id</th>\n",
       "      <th>Investigation.Type</th>\n",
       "      <th>Accident.Number</th>\n",
       "      <th>Event.Date</th>\n",
       "      <th>Location</th>\n",
       "      <th>Country</th>\n",
       "      <th>Latitude</th>\n",
       "      <th>Longitude</th>\n",
       "      <th>Airport.Code</th>\n",
       "      <th>Airport.Name</th>\n",
       "      <th>...</th>\n",
       "      <th>Purpose.of.flight</th>\n",
       "      <th>Air.carrier</th>\n",
       "      <th>Total.Fatal.Injuries</th>\n",
       "      <th>Total.Serious.Injuries</th>\n",
       "      <th>Total.Minor.Injuries</th>\n",
       "      <th>Total.Uninjured</th>\n",
       "      <th>Weather.Condition</th>\n",
       "      <th>Broad.phase.of.flight</th>\n",
       "      <th>Report.Status</th>\n",
       "      <th>Publication.Date</th>\n",
       "    </tr>\n",
       "  </thead>\n",
       "  <tbody>\n",
       "    <tr>\n",
       "      <th>7</th>\n",
       "      <td>20020909X01562</td>\n",
       "      <td>Accident</td>\n",
       "      <td>SEA82DA022</td>\n",
       "      <td>1982-01-01</td>\n",
       "      <td>PULLMAN, WA</td>\n",
       "      <td>United States</td>\n",
       "      <td>NaN</td>\n",
       "      <td>NaN</td>\n",
       "      <td>NaN</td>\n",
       "      <td>BLACKBURN AG STRIP</td>\n",
       "      <td>...</td>\n",
       "      <td>Personal</td>\n",
       "      <td>NaN</td>\n",
       "      <td>0.0</td>\n",
       "      <td>0.0</td>\n",
       "      <td>0.0</td>\n",
       "      <td>2.0</td>\n",
       "      <td>VMC</td>\n",
       "      <td>Takeoff</td>\n",
       "      <td>Probable Cause</td>\n",
       "      <td>01-01-1982</td>\n",
       "    </tr>\n",
       "    <tr>\n",
       "      <th>8</th>\n",
       "      <td>20020909X01561</td>\n",
       "      <td>Accident</td>\n",
       "      <td>NYC82DA015</td>\n",
       "      <td>1982-01-01</td>\n",
       "      <td>EAST HANOVER, NJ</td>\n",
       "      <td>United States</td>\n",
       "      <td>NaN</td>\n",
       "      <td>NaN</td>\n",
       "      <td>N58</td>\n",
       "      <td>HANOVER</td>\n",
       "      <td>...</td>\n",
       "      <td>Business</td>\n",
       "      <td>NaN</td>\n",
       "      <td>0.0</td>\n",
       "      <td>0.0</td>\n",
       "      <td>0.0</td>\n",
       "      <td>2.0</td>\n",
       "      <td>IMC</td>\n",
       "      <td>Landing</td>\n",
       "      <td>Probable Cause</td>\n",
       "      <td>01-01-1982</td>\n",
       "    </tr>\n",
       "    <tr>\n",
       "      <th>12</th>\n",
       "      <td>20020917X02148</td>\n",
       "      <td>Accident</td>\n",
       "      <td>FTW82FRJ07</td>\n",
       "      <td>1982-01-02</td>\n",
       "      <td>HOMER, LA</td>\n",
       "      <td>United States</td>\n",
       "      <td>NaN</td>\n",
       "      <td>NaN</td>\n",
       "      <td>NaN</td>\n",
       "      <td>NaN</td>\n",
       "      <td>...</td>\n",
       "      <td>Personal</td>\n",
       "      <td>NaN</td>\n",
       "      <td>0.0</td>\n",
       "      <td>0.0</td>\n",
       "      <td>1.0</td>\n",
       "      <td>0.0</td>\n",
       "      <td>IMC</td>\n",
       "      <td>Cruise</td>\n",
       "      <td>Probable Cause</td>\n",
       "      <td>02-01-1983</td>\n",
       "    </tr>\n",
       "    <tr>\n",
       "      <th>13</th>\n",
       "      <td>20020917X02134</td>\n",
       "      <td>Accident</td>\n",
       "      <td>FTW82FRA14</td>\n",
       "      <td>1982-01-02</td>\n",
       "      <td>HEARNE, TX</td>\n",
       "      <td>United States</td>\n",
       "      <td>NaN</td>\n",
       "      <td>NaN</td>\n",
       "      <td>T72</td>\n",
       "      <td>HEARNE MUNICIPAL</td>\n",
       "      <td>...</td>\n",
       "      <td>Personal</td>\n",
       "      <td>NaN</td>\n",
       "      <td>1.0</td>\n",
       "      <td>0.0</td>\n",
       "      <td>0.0</td>\n",
       "      <td>0.0</td>\n",
       "      <td>IMC</td>\n",
       "      <td>Takeoff</td>\n",
       "      <td>Probable Cause</td>\n",
       "      <td>02-01-1983</td>\n",
       "    </tr>\n",
       "    <tr>\n",
       "      <th>15</th>\n",
       "      <td>20020917X02117</td>\n",
       "      <td>Accident</td>\n",
       "      <td>FTW82FPG08</td>\n",
       "      <td>1982-01-02</td>\n",
       "      <td>LITTLE ROCK, AR</td>\n",
       "      <td>United States</td>\n",
       "      <td>NaN</td>\n",
       "      <td>NaN</td>\n",
       "      <td>NaN</td>\n",
       "      <td>NaN</td>\n",
       "      <td>...</td>\n",
       "      <td>Personal</td>\n",
       "      <td>NaN</td>\n",
       "      <td>2.0</td>\n",
       "      <td>0.0</td>\n",
       "      <td>0.0</td>\n",
       "      <td>0.0</td>\n",
       "      <td>IMC</td>\n",
       "      <td>Cruise</td>\n",
       "      <td>Probable Cause</td>\n",
       "      <td>02-01-1983</td>\n",
       "    </tr>\n",
       "    <tr>\n",
       "      <th>...</th>\n",
       "      <td>...</td>\n",
       "      <td>...</td>\n",
       "      <td>...</td>\n",
       "      <td>...</td>\n",
       "      <td>...</td>\n",
       "      <td>...</td>\n",
       "      <td>...</td>\n",
       "      <td>...</td>\n",
       "      <td>...</td>\n",
       "      <td>...</td>\n",
       "      <td>...</td>\n",
       "      <td>...</td>\n",
       "      <td>...</td>\n",
       "      <td>...</td>\n",
       "      <td>...</td>\n",
       "      <td>...</td>\n",
       "      <td>...</td>\n",
       "      <td>...</td>\n",
       "      <td>...</td>\n",
       "      <td>...</td>\n",
       "      <td>...</td>\n",
       "    </tr>\n",
       "    <tr>\n",
       "      <th>88858</th>\n",
       "      <td>20221211106438</td>\n",
       "      <td>Accident</td>\n",
       "      <td>ERA23LA083</td>\n",
       "      <td>2022-12-09</td>\n",
       "      <td>Hawkinsville, GA</td>\n",
       "      <td>United States</td>\n",
       "      <td>321814N</td>\n",
       "      <td>0832534W</td>\n",
       "      <td>51A</td>\n",
       "      <td>HAWKINSVILLE-PULASKI COUNTY</td>\n",
       "      <td>...</td>\n",
       "      <td>Personal</td>\n",
       "      <td>NaN</td>\n",
       "      <td>0.0</td>\n",
       "      <td>1.0</td>\n",
       "      <td>0.0</td>\n",
       "      <td>0.0</td>\n",
       "      <td>VMC</td>\n",
       "      <td>NaN</td>\n",
       "      <td>NaN</td>\n",
       "      <td>15-12-2022</td>\n",
       "    </tr>\n",
       "    <tr>\n",
       "      <th>88861</th>\n",
       "      <td>20221215106460</td>\n",
       "      <td>Accident</td>\n",
       "      <td>ERA23LA088</td>\n",
       "      <td>2022-12-10</td>\n",
       "      <td>Alabaster, AL</td>\n",
       "      <td>United States</td>\n",
       "      <td>331040N</td>\n",
       "      <td>0086470W</td>\n",
       "      <td>EET</td>\n",
       "      <td>NaN</td>\n",
       "      <td>...</td>\n",
       "      <td>Personal</td>\n",
       "      <td>NaN</td>\n",
       "      <td>0.0</td>\n",
       "      <td>0.0</td>\n",
       "      <td>0.0</td>\n",
       "      <td>2.0</td>\n",
       "      <td>NaN</td>\n",
       "      <td>NaN</td>\n",
       "      <td>NaN</td>\n",
       "      <td>19-12-2022</td>\n",
       "    </tr>\n",
       "    <tr>\n",
       "      <th>88865</th>\n",
       "      <td>20221212106444</td>\n",
       "      <td>Accident</td>\n",
       "      <td>ERA23LA085</td>\n",
       "      <td>2022-12-12</td>\n",
       "      <td>Knoxville, TN</td>\n",
       "      <td>United States</td>\n",
       "      <td>355745N</td>\n",
       "      <td>0835218W</td>\n",
       "      <td>DKX</td>\n",
       "      <td>KNOXVILLE DOWNTOWN ISLAND</td>\n",
       "      <td>...</td>\n",
       "      <td>Instructional</td>\n",
       "      <td>Knoxville Flight Training Academy</td>\n",
       "      <td>0.0</td>\n",
       "      <td>0.0</td>\n",
       "      <td>0.0</td>\n",
       "      <td>1.0</td>\n",
       "      <td>VMC</td>\n",
       "      <td>NaN</td>\n",
       "      <td>NaN</td>\n",
       "      <td>15-12-2022</td>\n",
       "    </tr>\n",
       "    <tr>\n",
       "      <th>88869</th>\n",
       "      <td>20221213106455</td>\n",
       "      <td>Accident</td>\n",
       "      <td>WPR23LA065</td>\n",
       "      <td>2022-12-13</td>\n",
       "      <td>Lewistown, MT</td>\n",
       "      <td>United States</td>\n",
       "      <td>047257N</td>\n",
       "      <td>0109280W</td>\n",
       "      <td>KLWT</td>\n",
       "      <td>Lewiston Municipal Airport</td>\n",
       "      <td>...</td>\n",
       "      <td>NaN</td>\n",
       "      <td>NaN</td>\n",
       "      <td>0.0</td>\n",
       "      <td>0.0</td>\n",
       "      <td>0.0</td>\n",
       "      <td>1.0</td>\n",
       "      <td>NaN</td>\n",
       "      <td>NaN</td>\n",
       "      <td>NaN</td>\n",
       "      <td>14-12-2022</td>\n",
       "    </tr>\n",
       "    <tr>\n",
       "      <th>88877</th>\n",
       "      <td>20221219106470</td>\n",
       "      <td>Accident</td>\n",
       "      <td>ERA23LA091</td>\n",
       "      <td>2022-12-16</td>\n",
       "      <td>Brooksville, FL</td>\n",
       "      <td>United States</td>\n",
       "      <td>282825N</td>\n",
       "      <td>0822719W</td>\n",
       "      <td>BKV</td>\n",
       "      <td>BROOKSVILLE-TAMPA BAY RGNL</td>\n",
       "      <td>...</td>\n",
       "      <td>Personal</td>\n",
       "      <td>GERBER RICHARD E</td>\n",
       "      <td>0.0</td>\n",
       "      <td>1.0</td>\n",
       "      <td>0.0</td>\n",
       "      <td>0.0</td>\n",
       "      <td>VMC</td>\n",
       "      <td>NaN</td>\n",
       "      <td>NaN</td>\n",
       "      <td>23-12-2022</td>\n",
       "    </tr>\n",
       "  </tbody>\n",
       "</table>\n",
       "<p>18335 rows × 31 columns</p>\n",
       "</div>"
      ],
      "text/plain": [
       "             Event.Id Investigation.Type Accident.Number  Event.Date  \\\n",
       "7      20020909X01562           Accident      SEA82DA022  1982-01-01   \n",
       "8      20020909X01561           Accident      NYC82DA015  1982-01-01   \n",
       "12     20020917X02148           Accident      FTW82FRJ07  1982-01-02   \n",
       "13     20020917X02134           Accident      FTW82FRA14  1982-01-02   \n",
       "15     20020917X02117           Accident      FTW82FPG08  1982-01-02   \n",
       "...               ...                ...             ...         ...   \n",
       "88858  20221211106438           Accident      ERA23LA083  2022-12-09   \n",
       "88861  20221215106460           Accident      ERA23LA088  2022-12-10   \n",
       "88865  20221212106444           Accident      ERA23LA085  2022-12-12   \n",
       "88869  20221213106455           Accident      WPR23LA065  2022-12-13   \n",
       "88877  20221219106470           Accident      ERA23LA091  2022-12-16   \n",
       "\n",
       "               Location        Country Latitude Longitude Airport.Code  \\\n",
       "7           PULLMAN, WA  United States      NaN       NaN          NaN   \n",
       "8      EAST HANOVER, NJ  United States      NaN       NaN          N58   \n",
       "12            HOMER, LA  United States      NaN       NaN          NaN   \n",
       "13           HEARNE, TX  United States      NaN       NaN          T72   \n",
       "15      LITTLE ROCK, AR  United States      NaN       NaN          NaN   \n",
       "...                 ...            ...      ...       ...          ...   \n",
       "88858  Hawkinsville, GA  United States  321814N  0832534W          51A   \n",
       "88861     Alabaster, AL  United States  331040N  0086470W          EET   \n",
       "88865     Knoxville, TN  United States  355745N  0835218W          DKX   \n",
       "88869     Lewistown, MT  United States  047257N  0109280W         KLWT   \n",
       "88877   Brooksville, FL  United States  282825N  0822719W          BKV   \n",
       "\n",
       "                      Airport.Name  ... Purpose.of.flight  \\\n",
       "7               BLACKBURN AG STRIP  ...          Personal   \n",
       "8                          HANOVER  ...          Business   \n",
       "12                             NaN  ...          Personal   \n",
       "13                HEARNE MUNICIPAL  ...          Personal   \n",
       "15                             NaN  ...          Personal   \n",
       "...                            ...  ...               ...   \n",
       "88858  HAWKINSVILLE-PULASKI COUNTY  ...          Personal   \n",
       "88861                          NaN  ...          Personal   \n",
       "88865    KNOXVILLE DOWNTOWN ISLAND  ...     Instructional   \n",
       "88869   Lewiston Municipal Airport  ...               NaN   \n",
       "88877   BROOKSVILLE-TAMPA BAY RGNL  ...          Personal   \n",
       "\n",
       "                             Air.carrier Total.Fatal.Injuries  \\\n",
       "7                                    NaN                  0.0   \n",
       "8                                    NaN                  0.0   \n",
       "12                                   NaN                  0.0   \n",
       "13                                   NaN                  1.0   \n",
       "15                                   NaN                  2.0   \n",
       "...                                  ...                  ...   \n",
       "88858                                NaN                  0.0   \n",
       "88861                                NaN                  0.0   \n",
       "88865  Knoxville Flight Training Academy                  0.0   \n",
       "88869                                NaN                  0.0   \n",
       "88877                   GERBER RICHARD E                  0.0   \n",
       "\n",
       "      Total.Serious.Injuries Total.Minor.Injuries Total.Uninjured  \\\n",
       "7                        0.0                  0.0             2.0   \n",
       "8                        0.0                  0.0             2.0   \n",
       "12                       0.0                  1.0             0.0   \n",
       "13                       0.0                  0.0             0.0   \n",
       "15                       0.0                  0.0             0.0   \n",
       "...                      ...                  ...             ...   \n",
       "88858                    1.0                  0.0             0.0   \n",
       "88861                    0.0                  0.0             2.0   \n",
       "88865                    0.0                  0.0             1.0   \n",
       "88869                    0.0                  0.0             1.0   \n",
       "88877                    1.0                  0.0             0.0   \n",
       "\n",
       "      Weather.Condition  Broad.phase.of.flight   Report.Status  \\\n",
       "7                   VMC                Takeoff  Probable Cause   \n",
       "8                   IMC                Landing  Probable Cause   \n",
       "12                  IMC                 Cruise  Probable Cause   \n",
       "13                  IMC                Takeoff  Probable Cause   \n",
       "15                  IMC                 Cruise  Probable Cause   \n",
       "...                 ...                    ...             ...   \n",
       "88858               VMC                    NaN             NaN   \n",
       "88861               NaN                    NaN             NaN   \n",
       "88865               VMC                    NaN             NaN   \n",
       "88869               NaN                    NaN             NaN   \n",
       "88877               VMC                    NaN             NaN   \n",
       "\n",
       "      Publication.Date  \n",
       "7           01-01-1982  \n",
       "8           01-01-1982  \n",
       "12          02-01-1983  \n",
       "13          02-01-1983  \n",
       "15          02-01-1983  \n",
       "...                ...  \n",
       "88858       15-12-2022  \n",
       "88861       19-12-2022  \n",
       "88865       15-12-2022  \n",
       "88869       14-12-2022  \n",
       "88877       23-12-2022  \n",
       "\n",
       "[18335 rows x 31 columns]"
      ]
     },
     "execution_count": 20,
     "metadata": {},
     "output_type": "execute_result"
    }
   ],
   "source": [
    "# Remove any Make that have a value count under 232\n",
    "airplane_df.groupby(\"Make\").filter(lambda x : len(x)>=232)"
   ]
  },
  {
   "cell_type": "code",
   "execution_count": null,
   "id": "ae0e74e7",
   "metadata": {},
   "outputs": [],
   "source": [
    "# airplane_df.groupby(\"Make\").count().describe()"
   ]
  },
  {
   "cell_type": "code",
   "execution_count": null,
   "id": "f8113896",
   "metadata": {},
   "outputs": [],
   "source": [
    "# Export Make value counts into a CSV file\n",
    "# airplane_df[\"Make\"].value_counts().reset_index().to_csv(\"Make.csv\")"
   ]
  },
  {
   "cell_type": "code",
   "execution_count": null,
   "id": "9bebdbc2",
   "metadata": {},
   "outputs": [],
   "source": [
    "# Trying fuzzywuzzy\n",
    "# process.extract(\"cessna\", airplane_df[\"Make\"], limit = 10)"
   ]
  },
  {
   "cell_type": "code",
   "execution_count": null,
   "id": "3517e396",
   "metadata": {},
   "outputs": [],
   "source": [
    "# Filtering out dates before January 01, 1998\n",
    "df[\"Event.Date\"] = pd.to_datetime(df[\"Event.Date\"])\n",
    "df[df[\"Event.Date\"] > \"1998-01-01\"]"
   ]
  }
 ],
 "metadata": {
  "kernelspec": {
   "display_name": "Python 3 (ipykernel)",
   "language": "python",
   "name": "python3"
  },
  "language_info": {
   "codemirror_mode": {
    "name": "ipython",
    "version": 3
   },
   "file_extension": ".py",
   "mimetype": "text/x-python",
   "name": "python",
   "nbconvert_exporter": "python",
   "pygments_lexer": "ipython3",
   "version": "3.8.16"
  }
 },
 "nbformat": 4,
 "nbformat_minor": 5
}
