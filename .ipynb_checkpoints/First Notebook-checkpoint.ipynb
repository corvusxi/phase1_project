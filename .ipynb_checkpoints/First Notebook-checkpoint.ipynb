{
 "cells": [
  {
   "cell_type": "code",
   "execution_count": 36,
   "id": "441bd054",
   "metadata": {},
   "outputs": [],
   "source": [
    "import pandas as pd\n",
    "import numpy as np\n",
    "import matplotlib.pyplot as plt\n",
    "%matplotlib inline"
   ]
  },
  {
   "cell_type": "code",
   "execution_count": 37,
   "id": "8cbd6f56",
   "metadata": {
    "scrolled": true
   },
   "outputs": [
    {
     "name": "stderr",
     "output_type": "stream",
     "text": [
      "/var/folders/7g/r7tsh7ks1cq18vt2vkdmshh00000gp/T/ipykernel_27695/1154597234.py:2: DtypeWarning: Columns (6,7,28) have mixed types. Specify dtype option on import or set low_memory=False.\n",
      "  df = pd.read_csv('data/AviationData.csv', encoding='latin-1')\n"
     ]
    },
    {
     "data": {
      "text/plain": [
       "Aircraft.Category\n",
       "Airplane             27617\n",
       "Helicopter            3440\n",
       "Glider                 508\n",
       "Balloon                231\n",
       "Gyrocraft              173\n",
       "Weight-Shift           161\n",
       "Powered Parachute       91\n",
       "Ultralight              30\n",
       "Unknown                 14\n",
       "WSFT                     9\n",
       "Powered-Lift             5\n",
       "Blimp                    4\n",
       "UNK                      2\n",
       "Rocket                   1\n",
       "ULTR                     1\n",
       "Name: count, dtype: int64"
      ]
     },
     "execution_count": 37,
     "metadata": {},
     "output_type": "execute_result"
    }
   ],
   "source": [
    "#Reads the csv\n",
    "df = pd.read_csv('data/AviationData.csv', encoding='latin-1')\n",
    "\n",
    "df['Aircraft.Category'].value_counts()"
   ]
  },
  {
   "cell_type": "code",
   "execution_count": 38,
   "id": "efc30b02",
   "metadata": {
    "scrolled": true
   },
   "outputs": [
    {
     "data": {
      "text/html": [
       "<div>\n",
       "<style scoped>\n",
       "    .dataframe tbody tr th:only-of-type {\n",
       "        vertical-align: middle;\n",
       "    }\n",
       "\n",
       "    .dataframe tbody tr th {\n",
       "        vertical-align: top;\n",
       "    }\n",
       "\n",
       "    .dataframe thead th {\n",
       "        text-align: right;\n",
       "    }\n",
       "</style>\n",
       "<table border=\"1\" class=\"dataframe\">\n",
       "  <thead>\n",
       "    <tr style=\"text-align: right;\">\n",
       "      <th></th>\n",
       "      <th>Event.Id</th>\n",
       "      <th>Investigation.Type</th>\n",
       "      <th>Accident.Number</th>\n",
       "      <th>Event.Date</th>\n",
       "      <th>Location</th>\n",
       "      <th>Country</th>\n",
       "      <th>Latitude</th>\n",
       "      <th>Longitude</th>\n",
       "      <th>Airport.Code</th>\n",
       "      <th>Airport.Name</th>\n",
       "      <th>...</th>\n",
       "      <th>Purpose.of.flight</th>\n",
       "      <th>Air.carrier</th>\n",
       "      <th>Total.Fatal.Injuries</th>\n",
       "      <th>Total.Serious.Injuries</th>\n",
       "      <th>Total.Minor.Injuries</th>\n",
       "      <th>Total.Uninjured</th>\n",
       "      <th>Weather.Condition</th>\n",
       "      <th>Broad.phase.of.flight</th>\n",
       "      <th>Report.Status</th>\n",
       "      <th>Publication.Date</th>\n",
       "    </tr>\n",
       "  </thead>\n",
       "  <tbody>\n",
       "    <tr>\n",
       "      <th>0</th>\n",
       "      <td>20001218X45444</td>\n",
       "      <td>Accident</td>\n",
       "      <td>SEA87LA080</td>\n",
       "      <td>1948-10-24</td>\n",
       "      <td>MOOSE CREEK, ID</td>\n",
       "      <td>United States</td>\n",
       "      <td>NaN</td>\n",
       "      <td>NaN</td>\n",
       "      <td>NaN</td>\n",
       "      <td>NaN</td>\n",
       "      <td>...</td>\n",
       "      <td>Personal</td>\n",
       "      <td>NaN</td>\n",
       "      <td>2.0</td>\n",
       "      <td>0.0</td>\n",
       "      <td>0.0</td>\n",
       "      <td>0.0</td>\n",
       "      <td>UNK</td>\n",
       "      <td>Cruise</td>\n",
       "      <td>Probable Cause</td>\n",
       "      <td>NaN</td>\n",
       "    </tr>\n",
       "    <tr>\n",
       "      <th>1</th>\n",
       "      <td>20001218X45447</td>\n",
       "      <td>Accident</td>\n",
       "      <td>LAX94LA336</td>\n",
       "      <td>1962-07-19</td>\n",
       "      <td>BRIDGEPORT, CA</td>\n",
       "      <td>United States</td>\n",
       "      <td>NaN</td>\n",
       "      <td>NaN</td>\n",
       "      <td>NaN</td>\n",
       "      <td>NaN</td>\n",
       "      <td>...</td>\n",
       "      <td>Personal</td>\n",
       "      <td>NaN</td>\n",
       "      <td>4.0</td>\n",
       "      <td>0.0</td>\n",
       "      <td>0.0</td>\n",
       "      <td>0.0</td>\n",
       "      <td>UNK</td>\n",
       "      <td>Unknown</td>\n",
       "      <td>Probable Cause</td>\n",
       "      <td>19-09-1996</td>\n",
       "    </tr>\n",
       "    <tr>\n",
       "      <th>2</th>\n",
       "      <td>20061025X01555</td>\n",
       "      <td>Accident</td>\n",
       "      <td>NYC07LA005</td>\n",
       "      <td>1974-08-30</td>\n",
       "      <td>Saltville, VA</td>\n",
       "      <td>United States</td>\n",
       "      <td>36.922223</td>\n",
       "      <td>-81.878056</td>\n",
       "      <td>NaN</td>\n",
       "      <td>NaN</td>\n",
       "      <td>...</td>\n",
       "      <td>Personal</td>\n",
       "      <td>NaN</td>\n",
       "      <td>3.0</td>\n",
       "      <td>NaN</td>\n",
       "      <td>NaN</td>\n",
       "      <td>NaN</td>\n",
       "      <td>IMC</td>\n",
       "      <td>Cruise</td>\n",
       "      <td>Probable Cause</td>\n",
       "      <td>26-02-2007</td>\n",
       "    </tr>\n",
       "    <tr>\n",
       "      <th>3</th>\n",
       "      <td>20001218X45448</td>\n",
       "      <td>Accident</td>\n",
       "      <td>LAX96LA321</td>\n",
       "      <td>1977-06-19</td>\n",
       "      <td>EUREKA, CA</td>\n",
       "      <td>United States</td>\n",
       "      <td>NaN</td>\n",
       "      <td>NaN</td>\n",
       "      <td>NaN</td>\n",
       "      <td>NaN</td>\n",
       "      <td>...</td>\n",
       "      <td>Personal</td>\n",
       "      <td>NaN</td>\n",
       "      <td>2.0</td>\n",
       "      <td>0.0</td>\n",
       "      <td>0.0</td>\n",
       "      <td>0.0</td>\n",
       "      <td>IMC</td>\n",
       "      <td>Cruise</td>\n",
       "      <td>Probable Cause</td>\n",
       "      <td>12-09-2000</td>\n",
       "    </tr>\n",
       "    <tr>\n",
       "      <th>4</th>\n",
       "      <td>20041105X01764</td>\n",
       "      <td>Accident</td>\n",
       "      <td>CHI79FA064</td>\n",
       "      <td>1979-08-02</td>\n",
       "      <td>Canton, OH</td>\n",
       "      <td>United States</td>\n",
       "      <td>NaN</td>\n",
       "      <td>NaN</td>\n",
       "      <td>NaN</td>\n",
       "      <td>NaN</td>\n",
       "      <td>...</td>\n",
       "      <td>Personal</td>\n",
       "      <td>NaN</td>\n",
       "      <td>1.0</td>\n",
       "      <td>2.0</td>\n",
       "      <td>NaN</td>\n",
       "      <td>0.0</td>\n",
       "      <td>VMC</td>\n",
       "      <td>Approach</td>\n",
       "      <td>Probable Cause</td>\n",
       "      <td>16-04-1980</td>\n",
       "    </tr>\n",
       "  </tbody>\n",
       "</table>\n",
       "<p>5 rows × 31 columns</p>\n",
       "</div>"
      ],
      "text/plain": [
       "         Event.Id Investigation.Type Accident.Number  Event.Date  \\\n",
       "0  20001218X45444           Accident      SEA87LA080  1948-10-24   \n",
       "1  20001218X45447           Accident      LAX94LA336  1962-07-19   \n",
       "2  20061025X01555           Accident      NYC07LA005  1974-08-30   \n",
       "3  20001218X45448           Accident      LAX96LA321  1977-06-19   \n",
       "4  20041105X01764           Accident      CHI79FA064  1979-08-02   \n",
       "\n",
       "          Location        Country   Latitude  Longitude Airport.Code  \\\n",
       "0  MOOSE CREEK, ID  United States        NaN        NaN          NaN   \n",
       "1   BRIDGEPORT, CA  United States        NaN        NaN          NaN   \n",
       "2    Saltville, VA  United States  36.922223 -81.878056          NaN   \n",
       "3       EUREKA, CA  United States        NaN        NaN          NaN   \n",
       "4       Canton, OH  United States        NaN        NaN          NaN   \n",
       "\n",
       "  Airport.Name  ... Purpose.of.flight Air.carrier Total.Fatal.Injuries  \\\n",
       "0          NaN  ...          Personal         NaN                  2.0   \n",
       "1          NaN  ...          Personal         NaN                  4.0   \n",
       "2          NaN  ...          Personal         NaN                  3.0   \n",
       "3          NaN  ...          Personal         NaN                  2.0   \n",
       "4          NaN  ...          Personal         NaN                  1.0   \n",
       "\n",
       "  Total.Serious.Injuries Total.Minor.Injuries Total.Uninjured  \\\n",
       "0                    0.0                  0.0             0.0   \n",
       "1                    0.0                  0.0             0.0   \n",
       "2                    NaN                  NaN             NaN   \n",
       "3                    0.0                  0.0             0.0   \n",
       "4                    2.0                  NaN             0.0   \n",
       "\n",
       "  Weather.Condition  Broad.phase.of.flight   Report.Status Publication.Date  \n",
       "0               UNK                 Cruise  Probable Cause              NaN  \n",
       "1               UNK                Unknown  Probable Cause       19-09-1996  \n",
       "2               IMC                 Cruise  Probable Cause       26-02-2007  \n",
       "3               IMC                 Cruise  Probable Cause       12-09-2000  \n",
       "4               VMC               Approach  Probable Cause       16-04-1980  \n",
       "\n",
       "[5 rows x 31 columns]"
      ]
     },
     "execution_count": 38,
     "metadata": {},
     "output_type": "execute_result"
    }
   ],
   "source": [
    "df.head()"
   ]
  },
  {
   "cell_type": "code",
   "execution_count": 39,
   "id": "11429e2f",
   "metadata": {},
   "outputs": [],
   "source": [
    "accident_types = df['Investigation.Type'].unique()\n",
    "airplane_df = df[df['Aircraft.Category'] == 'Airplane']\n",
    "airplane_df = airplane_df.set_index(['Event.Id'])"
   ]
  },
  {
   "cell_type": "code",
   "execution_count": 40,
   "id": "f52e664e",
   "metadata": {},
   "outputs": [
    {
     "data": {
      "text/plain": [
       "Make\n",
       "CESSNA             4867\n",
       "Cessna             3608\n",
       "PIPER              2805\n",
       "Piper              1910\n",
       "BOEING             1037\n",
       "                   ... \n",
       "GLINES                1\n",
       "RAMMEL THOMAS W       1\n",
       "HEMMER                1\n",
       "W.H. Hunnicutt        1\n",
       "ORLICAN S R O         1\n",
       "Name: count, Length: 3874, dtype: int64"
      ]
     },
     "execution_count": 40,
     "metadata": {},
     "output_type": "execute_result"
    }
   ],
   "source": [
    "group_by_airplane = airplane_df.groupby('Make').sum(numeric_only=True)\n",
    "accidents_by_make = airplane_df['Make'].value_counts()\n",
    "accidents_by_make"
   ]
  },
  {
   "cell_type": "code",
   "execution_count": 41,
   "id": "a9f97555",
   "metadata": {},
   "outputs": [
    {
     "ename": "NameError",
     "evalue": "name 'Nominatim' is not defined",
     "output_type": "error",
     "traceback": [
      "\u001b[0;31m---------------------------------------------------------------------------\u001b[0m",
      "\u001b[0;31mNameError\u001b[0m                                 Traceback (most recent call last)",
      "Cell \u001b[0;32mIn[41], line 3\u001b[0m\n\u001b[1;32m      1\u001b[0m locations_list \u001b[38;5;241m=\u001b[39m df\u001b[38;5;241m.\u001b[39mLocation\u001b[38;5;241m.\u001b[39mdropna()\u001b[38;5;241m.\u001b[39munique()\n\u001b[0;32m----> 3\u001b[0m geolocator \u001b[38;5;241m=\u001b[39m \u001b[43mNominatim\u001b[49m(user_agent\u001b[38;5;241m=\u001b[39m\u001b[38;5;124m'\u001b[39m\u001b[38;5;124mphase1_project\u001b[39m\u001b[38;5;124m'\u001b[39m)\n",
      "\u001b[0;31mNameError\u001b[0m: name 'Nominatim' is not defined"
     ]
    }
   ],
   "source": [
    "locations_list = df.Location.dropna().unique()\n",
    "\n",
    "geolocator = Nominatim(user_agent='phase1_project')"
   ]
  },
  {
   "cell_type": "code",
   "execution_count": 42,
   "id": "40272fc1",
   "metadata": {},
   "outputs": [
    {
     "data": {
      "text/plain": [
       "27758"
      ]
     },
     "execution_count": 42,
     "metadata": {},
     "output_type": "execute_result"
    }
   ],
   "source": [
    "len(locations_list)"
   ]
  },
  {
   "cell_type": "code",
   "execution_count": 43,
   "id": "75c77bd2",
   "metadata": {},
   "outputs": [
    {
     "ename": "NameError",
     "evalue": "name 'geolocator' is not defined",
     "output_type": "error",
     "traceback": [
      "\u001b[0;31m---------------------------------------------------------------------------\u001b[0m",
      "\u001b[0;31mNameError\u001b[0m                                 Traceback (most recent call last)",
      "Cell \u001b[0;32mIn[43], line 1\u001b[0m\n\u001b[0;32m----> 1\u001b[0m \u001b[43mgeolocator\u001b[49m\u001b[38;5;241m.\u001b[39mgeocode(\u001b[38;5;124m'\u001b[39m\u001b[38;5;124mSKWENTA, AK\u001b[39m\u001b[38;5;124m'\u001b[39m) \u001b[38;5;241m==\u001b[39m \u001b[38;5;28;01mNone\u001b[39;00m\n",
      "\u001b[0;31mNameError\u001b[0m: name 'geolocator' is not defined"
     ]
    }
   ],
   "source": [
    "geolocator.geocode('SKWENTA, AK') == None"
   ]
  },
  {
   "cell_type": "code",
   "execution_count": 44,
   "id": "13d256ce",
   "metadata": {},
   "outputs": [],
   "source": [
    "def coordinate_finder(location=str):\n",
    "    info = geolocator.geocode(location)\n",
    "    return info\n",
    "def geo_df_generator(locations=list):\n",
    "    df = {'Location': [],\n",
    "        'Longitude_city': [],\n",
    "        'Latitude_city': []}\n",
    "    try:\n",
    "        for city in locations:\n",
    "            get_info = coordinate_finder(city)\n",
    "            if get_info != None:\n",
    "                longitude = get_info.longitude\n",
    "                latitude = get_info.latitude\n",
    "                df['Location'].append(city)\n",
    "                df['Longitude_city'].append(longitude)\n",
    "                df['Latitude_city'].append(latitude)\n",
    "        return df\n",
    "    except AttributeError as err:\n",
    "        print(err, city)\n",
    "    except geopy.exc.GeocoderServiceError as terr:\n",
    "        print(terr, city)\n"
   ]
  },
  {
   "cell_type": "code",
   "execution_count": 45,
   "id": "fad7e48d",
   "metadata": {},
   "outputs": [
    {
     "data": {
      "text/plain": [
       "(array([24]),)"
      ]
     },
     "execution_count": 45,
     "metadata": {},
     "output_type": "execute_result"
    }
   ],
   "source": [
    "np.where(locations_list == '10 NM W LEE VIN, CA')"
   ]
  },
  {
   "cell_type": "code",
   "execution_count": 46,
   "id": "70603487",
   "metadata": {},
   "outputs": [
    {
     "ename": "NameError",
     "evalue": "name 'geopy' is not defined",
     "output_type": "error",
     "traceback": [
      "\u001b[0;31m---------------------------------------------------------------------------\u001b[0m",
      "\u001b[0;31mNameError\u001b[0m                                 Traceback (most recent call last)",
      "Cell \u001b[0;32mIn[44], line 10\u001b[0m, in \u001b[0;36mgeo_df_generator\u001b[0;34m(locations)\u001b[0m\n\u001b[1;32m      9\u001b[0m \u001b[38;5;28;01mfor\u001b[39;00m city \u001b[38;5;129;01min\u001b[39;00m locations:\n\u001b[0;32m---> 10\u001b[0m     get_info \u001b[38;5;241m=\u001b[39m \u001b[43mcoordinate_finder\u001b[49m\u001b[43m(\u001b[49m\u001b[43mcity\u001b[49m\u001b[43m)\u001b[49m\n\u001b[1;32m     11\u001b[0m     \u001b[38;5;28;01mif\u001b[39;00m get_info \u001b[38;5;241m!=\u001b[39m \u001b[38;5;28;01mNone\u001b[39;00m:\n",
      "Cell \u001b[0;32mIn[44], line 2\u001b[0m, in \u001b[0;36mcoordinate_finder\u001b[0;34m(location)\u001b[0m\n\u001b[1;32m      1\u001b[0m \u001b[38;5;28;01mdef\u001b[39;00m \u001b[38;5;21mcoordinate_finder\u001b[39m(location\u001b[38;5;241m=\u001b[39m\u001b[38;5;28mstr\u001b[39m):\n\u001b[0;32m----> 2\u001b[0m     info \u001b[38;5;241m=\u001b[39m \u001b[43mgeolocator\u001b[49m\u001b[38;5;241m.\u001b[39mgeocode(location)\n\u001b[1;32m      3\u001b[0m     \u001b[38;5;28;01mreturn\u001b[39;00m info\n",
      "\u001b[0;31mNameError\u001b[0m: name 'geolocator' is not defined",
      "\nDuring handling of the above exception, another exception occurred:\n",
      "\u001b[0;31mNameError\u001b[0m                                 Traceback (most recent call last)",
      "Cell \u001b[0;32mIn[46], line 1\u001b[0m\n\u001b[0;32m----> 1\u001b[0m coordinates_df \u001b[38;5;241m=\u001b[39m pd\u001b[38;5;241m.\u001b[39mDataFrame(\u001b[43mgeo_df_generator\u001b[49m\u001b[43m(\u001b[49m\u001b[43mlocations_list\u001b[49m\u001b[43m[\u001b[49m\u001b[43m:\u001b[49m\u001b[38;5;241;43m1000\u001b[39;49m\u001b[43m]\u001b[49m\u001b[43m)\u001b[49m)\n",
      "Cell \u001b[0;32mIn[44], line 20\u001b[0m, in \u001b[0;36mgeo_df_generator\u001b[0;34m(locations)\u001b[0m\n\u001b[1;32m     18\u001b[0m \u001b[38;5;28;01mexcept\u001b[39;00m \u001b[38;5;167;01mAttributeError\u001b[39;00m \u001b[38;5;28;01mas\u001b[39;00m err:\n\u001b[1;32m     19\u001b[0m     \u001b[38;5;28mprint\u001b[39m(err, city)\n\u001b[0;32m---> 20\u001b[0m \u001b[38;5;28;01mexcept\u001b[39;00m \u001b[43mgeopy\u001b[49m\u001b[38;5;241m.\u001b[39mexc\u001b[38;5;241m.\u001b[39mGeocoderServiceError \u001b[38;5;28;01mas\u001b[39;00m terr:\n\u001b[1;32m     21\u001b[0m     \u001b[38;5;28mprint\u001b[39m(terr, city)\n",
      "\u001b[0;31mNameError\u001b[0m: name 'geopy' is not defined"
     ]
    }
   ],
   "source": [
    "coordinates_df = pd.DataFrame(geo_df_generator(locations_list[:1000]))"
   ]
  },
  {
   "cell_type": "code",
   "execution_count": 47,
   "id": "1ea262c6",
   "metadata": {},
   "outputs": [
    {
     "name": "stdout",
     "output_type": "stream",
     "text": [
      "Number of missing values: 9941\n",
      "Percentage of missing values: 36.00%\n"
     ]
    }
   ],
   "source": [
    "#look at dataset\n",
    "airplane_df.head()\n",
    "\n",
    "# Count the number of NaN values in the 'Airport.Code' column\n",
    "missing_values_count = airplane_df['Airport.Code'].isnull().sum()\n",
    "\n",
    "# Display the count and percentage of missing values\n",
    "total_entries = len(airplane_df['Airport.Code'])\n",
    "percentage_missing = (missing_values_count / total_entries) * 100\n",
    "\n",
    "print(f\"Number of missing values: {missing_values_count}\")\n",
    "print(f\"Percentage of missing values: {percentage_missing:.2f}%\")"
   ]
  },
  {
   "cell_type": "code",
   "execution_count": 48,
   "id": "70ba0aa5-9df4-40fa-8c6d-210a1928b9cf",
   "metadata": {},
   "outputs": [],
   "source": [
    "#standardize Airport.Code to all uppercase\n",
    "airplane_df['Airport.Code'] = airplane_df['Airport.Code'].str.upper()\n"
   ]
  },
  {
   "cell_type": "code",
   "execution_count": 49,
   "id": "068ac73b-54b2-4e7e-98f9-7fde8b317e0c",
   "metadata": {},
   "outputs": [
    {
     "name": "stdout",
     "output_type": "stream",
     "text": [
      "               Investigation.Type Accident.Number  Event.Date  \\\n",
      "Event.Id                                                        \n",
      "20170710X52551           Accident      NYC79AA106  1979-09-17   \n",
      "20020909X01562           Accident      SEA82DA022  1982-01-01   \n",
      "20020909X01561           Accident      NYC82DA015  1982-01-01   \n",
      "20020917X02148           Accident      FTW82FRJ07  1982-01-02   \n",
      "20020917X02134           Accident      FTW82FRA14  1982-01-02   \n",
      "\n",
      "                        Location        Country   Latitude  Longitude  \\\n",
      "Event.Id                                                                \n",
      "20170710X52551        BOSTON, MA  United States  42.445277 -70.758333   \n",
      "20020909X01562       PULLMAN, WA  United States        NaN        NaN   \n",
      "20020909X01561  EAST HANOVER, NJ  United States        NaN        NaN   \n",
      "20020917X02148         HOMER, LA  United States        NaN        NaN   \n",
      "20020917X02134        HEARNE, TX  United States        NaN        NaN   \n",
      "\n",
      "               Airport.Code        Airport.Name Injury.Severity  \\\n",
      "Event.Id                                                          \n",
      "20170710X52551          NaN                 NaN       Non-Fatal   \n",
      "20020909X01562          NaN  BLACKBURN AG STRIP       Non-Fatal   \n",
      "20020909X01561          N58             HANOVER       Non-Fatal   \n",
      "20020917X02148          NaN                 NaN       Non-Fatal   \n",
      "20020917X02134          T72    HEARNE MUNICIPAL        Fatal(1)   \n",
      "\n",
      "               Aircraft.damage Aircraft.Category Registration.Number  \\\n",
      "Event.Id                                                               \n",
      "20170710X52551     Substantial          Airplane              CF-TLU   \n",
      "20020909X01562     Substantial          Airplane              N2482N   \n",
      "20020909X01561     Substantial          Airplane              N7967Q   \n",
      "20020917X02148       Destroyed          Airplane              N14779   \n",
      "20020917X02134       Destroyed          Airplane              N758SK   \n",
      "\n",
      "                             Make   Model Amateur.Built  Number.of.Engines  \\\n",
      "Event.Id                                                                     \n",
      "20170710X52551  Mcdonnell Douglas     DC9            No                2.0   \n",
      "20020909X01562             Cessna     140            No                1.0   \n",
      "20020909X01561             Cessna    401B            No                2.0   \n",
      "20020917X02148           Bellanca  17-30A            No                1.0   \n",
      "20020917X02134             Cessna   R172K            No                1.0   \n",
      "\n",
      "                  Engine.Type            FAR.Description Schedule  \\\n",
      "Event.Id                                                            \n",
      "20170710X52551      Turbo Fan          Part 129: Foreign     SCHD   \n",
      "20020909X01562  Reciprocating  Part 91: General Aviation      NaN   \n",
      "20020909X01561  Reciprocating  Part 91: General Aviation      NaN   \n",
      "20020917X02148  Reciprocating  Part 91: General Aviation      NaN   \n",
      "20020917X02134  Reciprocating  Part 91: General Aviation      NaN   \n",
      "\n",
      "               Purpose.of.flight Air.carrier  Total.Fatal.Injuries  \\\n",
      "Event.Id                                                             \n",
      "20170710X52551               NaN  Air Canada                   NaN   \n",
      "20020909X01562          Personal         NaN                   0.0   \n",
      "20020909X01561          Business         NaN                   0.0   \n",
      "20020917X02148          Personal         NaN                   0.0   \n",
      "20020917X02134          Personal         NaN                   1.0   \n",
      "\n",
      "                Total.Serious.Injuries  Total.Minor.Injuries  Total.Uninjured  \\\n",
      "Event.Id                                                                        \n",
      "20170710X52551                     NaN                   1.0             44.0   \n",
      "20020909X01562                     0.0                   0.0              2.0   \n",
      "20020909X01561                     0.0                   0.0              2.0   \n",
      "20020917X02148                     0.0                   1.0              0.0   \n",
      "20020917X02134                     0.0                   0.0              0.0   \n",
      "\n",
      "               Weather.Condition Broad.phase.of.flight   Report.Status  \\\n",
      "Event.Id                                                                 \n",
      "20170710X52551               VMC                 Climb  Probable Cause   \n",
      "20020909X01562               VMC               Takeoff  Probable Cause   \n",
      "20020909X01561               IMC               Landing  Probable Cause   \n",
      "20020917X02148               IMC                Cruise  Probable Cause   \n",
      "20020917X02134               IMC               Takeoff  Probable Cause   \n",
      "\n",
      "               Publication.Date  \n",
      "Event.Id                         \n",
      "20170710X52551       19-09-2017  \n",
      "20020909X01562       01-01-1982  \n",
      "20020909X01561       01-01-1982  \n",
      "20020917X02148       02-01-1983  \n",
      "20020917X02134       02-01-1983  \n"
     ]
    }
   ],
   "source": [
    "# Set the option to display all columns\n",
    "pd.set_option('display.max_columns', None)\n",
    "\n",
    "# Display the first few rows of the DataFrame\n",
    "print(airplane_df.head())\n",
    "\n",
    "# Reset the option to its default value\n",
    "\n",
    "pd.reset_option('display.max_columns')\n",
    "\n"
   ]
  },
  {
   "cell_type": "code",
   "execution_count": 50,
   "id": "1d5ee4ee-83eb-4763-b2e9-24d0f759be5e",
   "metadata": {},
   "outputs": [
    {
     "data": {
      "text/html": [
       "<div>\n",
       "<style scoped>\n",
       "    .dataframe tbody tr th:only-of-type {\n",
       "        vertical-align: middle;\n",
       "    }\n",
       "\n",
       "    .dataframe tbody tr th {\n",
       "        vertical-align: top;\n",
       "    }\n",
       "\n",
       "    .dataframe thead th {\n",
       "        text-align: right;\n",
       "    }\n",
       "</style>\n",
       "<table border=\"1\" class=\"dataframe\">\n",
       "  <thead>\n",
       "    <tr style=\"text-align: right;\">\n",
       "      <th></th>\n",
       "      <th>Number.of.Engines</th>\n",
       "      <th>Total.Fatal.Injuries</th>\n",
       "      <th>Total.Serious.Injuries</th>\n",
       "      <th>Total.Minor.Injuries</th>\n",
       "      <th>Total.Uninjured</th>\n",
       "    </tr>\n",
       "  </thead>\n",
       "  <tbody>\n",
       "    <tr>\n",
       "      <th>count</th>\n",
       "      <td>24863.000000</td>\n",
       "      <td>24452.000000</td>\n",
       "      <td>24393.000000</td>\n",
       "      <td>24739.000000</td>\n",
       "      <td>26717.000000</td>\n",
       "    </tr>\n",
       "    <tr>\n",
       "      <th>mean</th>\n",
       "      <td>1.158589</td>\n",
       "      <td>0.655529</td>\n",
       "      <td>0.297708</td>\n",
       "      <td>0.254093</td>\n",
       "      <td>6.367145</td>\n",
       "    </tr>\n",
       "    <tr>\n",
       "      <th>std</th>\n",
       "      <td>0.407658</td>\n",
       "      <td>5.943002</td>\n",
       "      <td>2.097923</td>\n",
       "      <td>2.895328</td>\n",
       "      <td>31.849418</td>\n",
       "    </tr>\n",
       "    <tr>\n",
       "      <th>min</th>\n",
       "      <td>0.000000</td>\n",
       "      <td>0.000000</td>\n",
       "      <td>0.000000</td>\n",
       "      <td>0.000000</td>\n",
       "      <td>0.000000</td>\n",
       "    </tr>\n",
       "    <tr>\n",
       "      <th>25%</th>\n",
       "      <td>1.000000</td>\n",
       "      <td>0.000000</td>\n",
       "      <td>0.000000</td>\n",
       "      <td>0.000000</td>\n",
       "      <td>0.000000</td>\n",
       "    </tr>\n",
       "    <tr>\n",
       "      <th>50%</th>\n",
       "      <td>1.000000</td>\n",
       "      <td>0.000000</td>\n",
       "      <td>0.000000</td>\n",
       "      <td>0.000000</td>\n",
       "      <td>1.000000</td>\n",
       "    </tr>\n",
       "    <tr>\n",
       "      <th>75%</th>\n",
       "      <td>1.000000</td>\n",
       "      <td>0.000000</td>\n",
       "      <td>0.000000</td>\n",
       "      <td>0.000000</td>\n",
       "      <td>2.000000</td>\n",
       "    </tr>\n",
       "    <tr>\n",
       "      <th>max</th>\n",
       "      <td>8.000000</td>\n",
       "      <td>295.000000</td>\n",
       "      <td>161.000000</td>\n",
       "      <td>380.000000</td>\n",
       "      <td>588.000000</td>\n",
       "    </tr>\n",
       "  </tbody>\n",
       "</table>\n",
       "</div>"
      ],
      "text/plain": [
       "       Number.of.Engines  Total.Fatal.Injuries  Total.Serious.Injuries  \\\n",
       "count       24863.000000          24452.000000            24393.000000   \n",
       "mean            1.158589              0.655529                0.297708   \n",
       "std             0.407658              5.943002                2.097923   \n",
       "min             0.000000              0.000000                0.000000   \n",
       "25%             1.000000              0.000000                0.000000   \n",
       "50%             1.000000              0.000000                0.000000   \n",
       "75%             1.000000              0.000000                0.000000   \n",
       "max             8.000000            295.000000              161.000000   \n",
       "\n",
       "       Total.Minor.Injuries  Total.Uninjured  \n",
       "count          24739.000000     26717.000000  \n",
       "mean               0.254093         6.367145  \n",
       "std                2.895328        31.849418  \n",
       "min                0.000000         0.000000  \n",
       "25%                0.000000         0.000000  \n",
       "50%                0.000000         1.000000  \n",
       "75%                0.000000         2.000000  \n",
       "max              380.000000       588.000000  "
      ]
     },
     "execution_count": 50,
     "metadata": {},
     "output_type": "execute_result"
    }
   ],
   "source": [
    "airplane_df.describe()"
   ]
  },
  {
   "cell_type": "code",
   "execution_count": 51,
   "id": "d25086e9-467c-4abc-bdee-039901553147",
   "metadata": {},
   "outputs": [],
   "source": [
    "# seaborn is going to be your friend\n",
    "import seaborn as sns"
   ]
  },
  {
   "cell_type": "code",
   "execution_count": 61,
   "id": "ca22e848-96c2-4e40-b245-3acdde6d87bd",
   "metadata": {},
   "outputs": [
    {
     "name": "stderr",
     "output_type": "stream",
     "text": [
      "/Users/ry/anaconda3/envs/learn-env/lib/python3.9/site-packages/seaborn/_oldcore.py:1498: FutureWarning: is_categorical_dtype is deprecated and will be removed in a future version. Use isinstance(dtype, CategoricalDtype) instead\n",
      "  if pd.api.types.is_categorical_dtype(vector):\n",
      "/Users/ry/anaconda3/envs/learn-env/lib/python3.9/site-packages/seaborn/_oldcore.py:1498: FutureWarning: is_categorical_dtype is deprecated and will be removed in a future version. Use isinstance(dtype, CategoricalDtype) instead\n",
      "  if pd.api.types.is_categorical_dtype(vector):\n",
      "/Users/ry/anaconda3/envs/learn-env/lib/python3.9/site-packages/seaborn/_oldcore.py:1498: FutureWarning: is_categorical_dtype is deprecated and will be removed in a future version. Use isinstance(dtype, CategoricalDtype) instead\n",
      "  if pd.api.types.is_categorical_dtype(vector):\n"
     ]
    },
    {
     "data": {
      "image/png": "[encoded data removed]",
      "text/plain": [
       "<Figure size 640x480 with 1 Axes>"
      ]
     },
     "metadata": {},
     "output_type": "display_data"
    }
   ],
   "source": [
    "top_makes = airplane_df['Make'].value_counts().head(10).index\n",
    "top_makes_df = airplane_df[airplane_df['Make'].isin(top_makes)]\n",
    "\n",
    "sns.boxplot(x = 'Make', y = 'Total.Fatal.Injuries', data = top_makes_df)\n",
    "plt.show()"
   ]
  },
  {
   "cell_type": "code",
   "execution_count": null,
   "id": "1f6ac9ec-90c2-45e1-8ddd-1facc66d75bb",
   "metadata": {},
   "outputs": [],
   "source": []
  }
 ],
 "metadata": {
  "kernelspec": {
   "display_name": "Python (learn-env)",
   "language": "python",
   "name": "learn-env"
  },
  "language_info": {
   "codemirror_mode": {
    "name": "ipython",
    "version": 3
   },
   "file_extension": ".py",
   "mimetype": "text/x-python",
   "name": "python",
   "nbconvert_exporter": "python",
   "pygments_lexer": "ipython3",
   "version": "3.9.18"
  }
 },
 "nbformat": 4,
 "nbformat_minor": 5
}
