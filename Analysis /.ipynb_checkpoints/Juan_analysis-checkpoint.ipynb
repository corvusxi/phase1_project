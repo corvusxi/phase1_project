{
 "cells": [
  {
   "cell_type": "code",
   "execution_count": null,
   "id": "65df5009",
   "metadata": {
    "scrolled": true
   },
   "outputs": [],
   "source": [
    "import pandas as pd\n",
    "import matplotlib.pyplot as plt\n",
    "import seaborn as sns\n",
    "import numpy as np\n",
    "%matplotlib inline\n",
    "\n",
    "df = pd.read_csv('../airplane_df.csv')"
   ]
  },
  {
   "cell_type": "code",
   "execution_count": null,
   "id": "c19ea4cb",
   "metadata": {},
   "outputs": [],
   "source": [
    "df = df.set_index('Event.Id')\n",
    "\n",
    "us_accidents = df[df['Country'] == 'United States']"
   ]
  },
  {
   "cell_type": "code",
   "execution_count": null,
   "id": "33b26f45",
   "metadata": {},
   "outputs": [],
   "source": [
    "injuries_by_state = us_accidents.groupby('State').sum(numeric_only = True).loc[:, 'Total.Fatal.Injuries':]\n",
    "injuries_by_state['Total.People'] = injuries_by_state.sum(axis=1)"
   ]
  },
  {
   "cell_type": "code",
   "execution_count": null,
   "id": "28b4fec3",
   "metadata": {},
   "outputs": [],
   "source": [
    "injuries_by_state"
   ]
  },
  {
   "cell_type": "code",
   "execution_count": null,
   "id": "7223c09c",
   "metadata": {
    "scrolled": true
   },
   "outputs": [],
   "source": [
    "plt.style.use('ggplot')\n",
    "injuries_by_state[injuries_by_state.columns[:4]].plot(kind='barh', stacked=True, figsize=(12, 12),\n",
    "                                                     ylabel='Number of People', xlabel = 'States');"
   ]
  },
  {
   "cell_type": "code",
   "execution_count": null,
   "id": "47d583a1",
   "metadata": {},
   "outputs": [],
   "source": [
    "injuries_by_state['Fatality.Perc'] = (injuries_by_state['Total.Fatal.Injuries'] / injuries_by_state['Total.People']) * 100\n",
    "injuries_by_state.sort_values(by='Fatality.Perc', ascending=False)"
   ]
  },
  {
   "cell_type": "code",
   "execution_count": null,
   "id": "35882390",
   "metadata": {},
   "outputs": [],
   "source": [
    "df.head()"
   ]
  },
  {
   "cell_type": "code",
   "execution_count": null,
   "id": "9ba48876",
   "metadata": {},
   "outputs": [],
   "source": [
    "accidents_per_state = us_accidents.groupby('State').count()['Accident.Number'].rename('Total.Accidents')\n",
    "injuries_by_state = injuries_by_state.merge(accidents_per_state, on='State', how='left')\n",
    "injuries_by_state"
   ]
  },
  {
   "cell_type": "code",
   "execution_count": null,
   "id": "d2badb7d",
   "metadata": {},
   "outputs": [],
   "source": [
    "pd.set_option('display.max_rows', None)\n",
    "injuries_by_state.sort_values(by=['Fatality.Perc', 'Total.Accidents'], ascending=False)"
   ]
  },
  {
   "cell_type": "code",
   "execution_count": null,
   "id": "ad65c896",
   "metadata": {
    "scrolled": true
   },
   "outputs": [],
   "source": [
    "injuries_by_state['Total.Accidents'].plot(kind='hist', bins=40, xlabel='Accidents per State');"
   ]
  },
  {
   "cell_type": "code",
   "execution_count": null,
   "id": "486dee72",
   "metadata": {},
   "outputs": [],
   "source": [
    "injuries_by_state[injuries_by_state['Total.Accidents'] > 1500]"
   ]
  },
  {
   "cell_type": "code",
   "execution_count": null,
   "id": "320d5aa8",
   "metadata": {},
   "outputs": [],
   "source": [
    "injuries_by_state['Avg.Plane.Capacity'] = injuries_by_state['Total.People'] / injuries_by_state['Total.Accidents']"
   ]
  },
  {
   "cell_type": "code",
   "execution_count": null,
   "id": "55f0f9c6",
   "metadata": {
    "scrolled": true
   },
   "outputs": [],
   "source": [
    "first_quartile = injuries_by_state['Total.Accidents'].quantile(.25)\n",
    "injuries_by_state = injuries_by_state.loc[injuries_by_state['Total.Accidents'] >= first_quartile]. \\\n",
    "                    sort_values(by='Fatality.Perc', ascending=False)\n"
   ]
  },
  {
   "cell_type": "code",
   "execution_count": null,
   "id": "da88fc3a",
   "metadata": {
    "scrolled": false
   },
   "outputs": [],
   "source": [
    "injuries_by_state.plot(kind='scatter', x='Fatality.Perc', y='Avg.Plane.Capacity');"
   ]
  },
  {
   "cell_type": "code",
   "execution_count": null,
   "id": "b146b65d",
   "metadata": {},
   "outputs": [],
   "source": [
    "injuries_by_state.head()"
   ]
  },
  {
   "cell_type": "code",
   "execution_count": null,
   "id": "11a11f5a",
   "metadata": {},
   "outputs": [],
   "source": [
    "injuries_by_state['Avg.Plane.Capacity'] = injuries_by_state['Avg.Plane.Capacity'].round(2)\n",
    "injuries_by_state['Fatality.Perc'] = injuries_by_state['Fatality.Perc'].round(2)"
   ]
  },
  {
   "cell_type": "code",
   "execution_count": null,
   "id": "44ca4ab9",
   "metadata": {},
   "outputs": [],
   "source": [
    "injuries_by_state.to_csv('injuries_by_state.csv', encoding='UTF-8')"
   ]
  },
  {
   "cell_type": "code",
   "execution_count": null,
   "id": "a29578a0",
   "metadata": {},
   "outputs": [],
   "source": [
    "to_export = injuries_by_state.reset_index()\n",
    "to_export"
   ]
  },
  {
   "cell_type": "code",
   "execution_count": 30,
   "id": "157b8b34",
   "metadata": {},
   "outputs": [],
   "source": [
    "to_export.to_csv('injuries_by_state.csv', encoding='UTF-8')"
   ]
  }
 ],
 "metadata": {
  "kernelspec": {
   "display_name": "Python 3 (ipykernel)",
   "language": "python",
   "name": "python3"
  },
  "language_info": {
   "codemirror_mode": {
    "name": "ipython",
    "version": 3
   },
   "file_extension": ".py",
   "mimetype": "text/x-python",
   "name": "python",
   "nbconvert_exporter": "python",
   "pygments_lexer": "ipython3",
   "version": "3.11.5"
  }
 },
 "nbformat": 4,
 "nbformat_minor": 5
}
