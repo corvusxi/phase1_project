{
 "cells": [
  {
   "cell_type": "code",
   "execution_count": null,
   "metadata": {},
   "outputs": [],
   "source": [
    "import pandas as pd\n",
    "import matplotlib.pyplot as plt\n",
    "%matplotlib inline"
   ]
  },
  {
   "cell_type": "code",
   "execution_count": null,
   "metadata": {},
   "outputs": [],
   "source": [
    "pd.set_option(\"display.max_columns\", None)"
   ]
  },
  {
   "cell_type": "code",
   "execution_count": null,
   "metadata": {},
   "outputs": [],
   "source": [
    "# Read the CSV\n",
    "airplane_df = pd.read_csv(\"../airplane_df.csv\", encoding = \"latin-1\", low_memory = False)"
   ]
  },
  {
   "cell_type": "code",
   "execution_count": null,
   "metadata": {},
   "outputs": [],
   "source": [
    "# United States (and its territories) only\n",
    "airplane_df = airplane_df[airplane_df[\"Country\"] == \"United States\"]"
   ]
  },
  {
   "cell_type": "code",
   "execution_count": null,
   "metadata": {},
   "outputs": [],
   "source": [
    "# Airplane Damage\n",
    "airplane_df[\"Aircraft.damage\"].value_counts()"
   ]
  },
  {
   "cell_type": "code",
   "execution_count": null,
   "metadata": {},
   "outputs": [],
   "source": [
    "# Drop null values in Aircraft.damage column\n",
    "airplane_df.dropna(subset=[\"Aircraft.damage\"], inplace = True)"
   ]
  },
  {
   "cell_type": "code",
   "execution_count": null,
   "metadata": {},
   "outputs": [],
   "source": [
    "# Analyzing data if Unknown should be dropped\n",
    "# unknown_aircraft_damage = airplane_df[airplane_df[\"Aircraft.damage\"] == \"Unknown\"]"
   ]
  },
  {
   "cell_type": "code",
   "execution_count": null,
   "metadata": {},
   "outputs": [],
   "source": [
    "# Analyzing data if Unknown should be dropped\n",
    "# unknown_aircraft_damage.sort_values(\"Total.Uninjured\", ascending=False)"
   ]
  },
  {
   "cell_type": "markdown",
   "metadata": {},
   "source": [
    "Conclusion: Drop Unknown!"
   ]
  },
  {
   "cell_type": "code",
   "execution_count": null,
   "metadata": {},
   "outputs": [],
   "source": [
    "airplane_df = airplane_df.drop(airplane_df[airplane_df[\"Aircraft.damage\"] == \"Unknown\"].index)\n",
    "airplane_df"
   ]
  },
  {
   "cell_type": "code",
   "execution_count": null,
   "metadata": {},
   "outputs": [],
   "source": [
    "# KEEP THIS\n",
    "# Analyizing injuries on Minor Aircraft Damage\n",
    "# minor_aircraft_damage = airplane_df[airplane_df[\"Aircraft.damage\"] == \"Minor\"]"
   ]
  },
  {
   "cell_type": "code",
   "execution_count": null,
   "metadata": {},
   "outputs": [],
   "source": [
    "# KEEP THIS\n",
    "# Analyizing injuries on Minor Aircraft Damage\n",
    "# minor_aircraft_damage.sort_values(\"Total.Uninjured\", ascending=False).head(10)"
   ]
  },
  {
   "cell_type": "code",
   "execution_count": null,
   "metadata": {},
   "outputs": [],
   "source": [
    "# Analyizing injuries on Destroyed Aircraft Damage\n",
    "destroyed_aircraft_damage = airplane_df[airplane_df[\"Aircraft.damage\"] == \"Destroyed\"]"
   ]
  },
  {
   "cell_type": "code",
   "execution_count": null,
   "metadata": {},
   "outputs": [],
   "source": [
    "destroyed_aircraft_damage[destroyed_aircraft_damage['Total.Fatal.Injuries'] <= 4].sort_values(by='Total.Fatal.Injuries', ascending=False)"
   ]
  },
  {
   "cell_type": "code",
   "execution_count": null,
   "metadata": {},
   "outputs": [],
   "source": [
    "# New column called \"Make and Model\"\n",
    "destroyed_aircraft_damage[\"Make + Model\"] = destroyed_aircraft_damage[\"Make\"] + \" \" + destroyed_aircraft_damage[\"Model\"]\n",
    "destroyed_aircraft_damage"
   ]
  },
  {
   "cell_type": "code",
   "execution_count": null,
   "metadata": {},
   "outputs": [],
   "source": [
    "CESSNA172_df = destroyed_aircraft_damage[destroyed_aircraft_damage[\"Make + Model\"] == \"CESSNA 172\"]"
   ]
  },
  {
   "cell_type": "code",
   "execution_count": null,
   "metadata": {},
   "outputs": [],
   "source": [
    "CESSNA172_df"
   ]
  },
  {
   "cell_type": "code",
   "execution_count": null,
   "metadata": {},
   "outputs": [],
   "source": [
    "# fatal_four = destroyed_aircraft_damage[destroyed_aircraft_damage['Total.Fatal.Injuries'] <= 4].sort_values(by='Total.Fatal.Injuries', ascending=False)"
   ]
  },
  {
   "cell_type": "code",
   "execution_count": null,
   "metadata": {},
   "outputs": [],
   "source": [
    "# destroyed_aircraft_damage[\"Make\"].value_counts()"
   ]
  },
  {
   "cell_type": "code",
   "execution_count": null,
   "metadata": {},
   "outputs": [],
   "source": [
    "# destroyed_aircraft_damage[\"Model\"].value_counts()"
   ]
  },
  {
   "cell_type": "code",
   "execution_count": null,
   "metadata": {},
   "outputs": [],
   "source": [
    "# New column called \"Make and Model\"\n",
    "# airplane_df[\"Make + Model\"] = airplane_df[\"Make\"] + \" \" + airplane_df[\"Model\"]\n",
    "# airplane_df"
   ]
  },
  {
   "cell_type": "code",
   "execution_count": null,
   "metadata": {},
   "outputs": [],
   "source": [
    "# # aircraft_damage_unknown = airplane_df[airplane_df[\"Aircraft.damage\"] == \"Unknown\"]\n",
    "# aircraft_damage_unknown_injuries = airplane_df[[\"Make + Model\", \"Total.Fatal.Injuries\", \"Total.Serious.Injuries\", \"Total.Minor.Injuries\", \"Total.Uninjured\"]].copy()\n",
    "# aircraft_damage_unknown"
   ]
  },
  {
   "cell_type": "code",
   "execution_count": null,
   "metadata": {},
   "outputs": [],
   "source": [
    "# aircraft_damage_unknown_injuries[\"Make + Model\"].value_counts()"
   ]
  },
  {
   "cell_type": "code",
   "execution_count": null,
   "metadata": {},
   "outputs": [],
   "source": [
    "# aircraft_damage_destroyed = airplane_df[airplane_df[\"Aircraft.damage\"] == \"Destroyed\"]\n",
    "# aircraft_damage_destroyed = airplane_df[[\"Make + Model\", \"Total.Fatal.Injuries\", \"Total.Serious.Injuries\", \"Total.Minor.Injuries\", \"Total.Uninjured\"]].copy()\n",
    "# aircraft_damage_destroyed"
   ]
  },
  {
   "cell_type": "code",
   "execution_count": null,
   "metadata": {},
   "outputs": [],
   "source": [
    "# airplane_dff = aircraft_damage_destroyed[aircraft_damage_destroyed[\"Make + Model\"] == \"CESSNA 172\"]"
   ]
  },
  {
   "cell_type": "code",
   "execution_count": null,
   "metadata": {},
   "outputs": [],
   "source": [
    "# total = airplane_df.groupby(\"Aircraft.damage\").sum(numeric_only=True).loc[:, \"Total.Fatal.Injuries\":]\n",
    "# total[\"Total.People\"] = total.sum(axis = 1)"
   ]
  }
 ],
 "metadata": {
  "kernelspec": {
   "display_name": "kris_data",
   "language": "python",
   "name": "python3"
  },
  "language_info": {
   "codemirror_mode": {
    "name": "ipython",
    "version": 3
   },
   "file_extension": ".py",
   "mimetype": "text/x-python",
   "name": "python",
   "nbconvert_exporter": "python",
   "pygments_lexer": "ipython3",
   "version": "3.10.13"
  }
 },
 "nbformat": 4,
 "nbformat_minor": 5
}
