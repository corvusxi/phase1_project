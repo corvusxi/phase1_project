{
 "cells": [
  {
   "cell_type": "code",
   "execution_count": null,
   "id": "441bd054",
   "metadata": {},
   "outputs": [],
   "source": [
    "import pandas as pd\n",
    "import numpy as np\n",
    "import matplotlib.pyplot as plt\n",
    "import seaborn as sns\n",
    "%matplotlib inline"
   ]
  },
  {
   "cell_type": "code",
   "execution_count": null,
   "id": "8cbd6f56",
   "metadata": {
    "scrolled": true
   },
   "outputs": [],
   "source": [
    "#Reads the csv\n",
    "df = pd.read_csv('data/AviationData.csv', encoding='latin-1')\n",
    "\n",
    "df['Aircraft.Category'].value_counts()"
   ]
  },
  {
   "cell_type": "code",
   "execution_count": null,
   "id": "efc30b02",
   "metadata": {
    "scrolled": true
   },
   "outputs": [],
   "source": [
    "df.head()"
   ]
  },
  {
   "cell_type": "code",
   "execution_count": null,
   "id": "11429e2f",
   "metadata": {},
   "outputs": [],
   "source": [
    "accident_types = df['Investigation.Type'].unique()\n",
    "airplane_df = df[df['Aircraft.Category'] == 'Airplane']\n",
    "airplane_df = airplane_df.set_index(['Event.Id'])"
   ]
  },
  {
   "cell_type": "code",
   "execution_count": null,
   "id": "f52e664e",
   "metadata": {},
   "outputs": [],
   "source": [
    "group_by_airplane = airplane_df.groupby('Make').sum(numeric_only=True)\n",
    "accidents_by_make = airplane_df['Make'].value_counts()\n",
    "accidents_by_make"
   ]
  },
  {
   "cell_type": "code",
   "execution_count": null,
   "id": "a9f97555",
   "metadata": {},
   "outputs": [],
   "source": [
    "locations_list = df.Location.dropna().unique()\n",
    "\n",
    "geolocator = Nominatim(user_agent='phase1_project')"
   ]
  },
  {
   "cell_type": "code",
   "execution_count": null,
   "id": "40272fc1",
   "metadata": {},
   "outputs": [],
   "source": [
    "len(locations_list)"
   ]
  },
  {
   "cell_type": "code",
   "execution_count": null,
   "id": "13d256ce",
   "metadata": {},
   "outputs": [],
   "source": [
    "#DO NOT RUN\n",
    "# def coordinate_finder(location=str):\n",
    "    info = geolocator.geocode(location)\n",
    "    return info\n",
    "# def geo_df_generator(locations=list):\n",
    "    df = {'Location': [],\n",
    "        'Longitude_city': [],\n",
    "        'Latitude_city': []}\n",
    "    try:\n",
    "        for city in locations:\n",
    "            get_info = coordinate_finder(city)\n",
    "            if get_info != None:\n",
    "                longitude = get_info.longitude\n",
    "                latitude = get_info.latitude\n",
    "                df['Location'].append(city)\n",
    "                df['Longitude_city'].append(longitude)\n",
    "                df['Latitude_city'].append(latitude)\n",
    "        return df\n",
    "    except AttributeError as err:\n",
    "        print(err, city)\n",
    "    except geopy.exc.GeocoderServiceError as terr:\n",
    "        print(terr, city)\n"
   ]
  },
  {
   "cell_type": "code",
   "execution_count": null,
   "id": "70603487",
   "metadata": {},
   "outputs": [],
   "source": [
    "#DO NOT RUN\n",
    "# coordinates_df = pd.DataFrame(geo_df_generator(locations_list[:1000]))"
   ]
  },
  {
   "cell_type": "markdown",
   "id": "32a33f77",
   "metadata": {},
   "source": [
    "## Location cleaning"
   ]
  },
  {
   "cell_type": "code",
   "execution_count": null,
   "id": "a642e82b",
   "metadata": {},
   "outputs": [],
   "source": [
    "# Makes all locations upper case\n",
    "airplane_df['Location'] = airplane_df['Location'].replace({np.nan: 'UNK'})\n",
    "airplane_df['Location'] = airplane_df['Location'].str.upper().str.strip(to_strip=',')\n",
    "airplane_df['Location'].loc[airplane_df['Country'] == 'United States'].str.slice(start=-2)\n",
    "\n",
    "#Creates State column for accidents in the US\n",
    "airplane_df['State'] = df['Location'].fillna('')\n",
    "airplane_df['State'] = airplane_df['Location'].map(lambda x: x[-2:])\n",
    "airplane_df['State'].loc[airplane_df['Country'] != 'United States'] = 'UNK'"
   ]
  },
  {
   "cell_type": "code",
   "execution_count": null,
   "id": "1f6ac9ec-90c2-45e1-8ddd-1facc66d75bb",
   "metadata": {},
   "outputs": [],
   "source": [
    "state_counts = [(state, count) for state, count in airplane_df['State'].value_counts().items()]\n",
    "state_counts"
   ]
  },
  {
   "cell_type": "code",
   "execution_count": null,
   "id": "9ccfd3df",
   "metadata": {},
   "outputs": [],
   "source": [
    "for state, count in state_counts:\n",
    "    x = airplane_df['Location'].loc[airplane_df['State'] == state].sample(1)\n",
    "    print(x)"
   ]
  },
  {
   "cell_type": "markdown",
   "id": "60f7182b",
   "metadata": {},
   "source": [
    "- ATL: Atlantic Ocean\n",
    "- NMI: Northern Mariana Islands\n",
    "- USVI: US Virgin Islands\n",
    "- GU: Guam\n",
    "- GM: Gulf of Mexico"
   ]
  },
  {
   "cell_type": "code",
   "execution_count": null,
   "id": "dc383764",
   "metadata": {},
   "outputs": [],
   "source": [
    "airplane_df['State'] = airplane_df['State'].replace({'AO': 'ATL', 'AN': 'NMI',\n",
    "                             'PO': 'GU', 'NG': 'GU', 'IX': 'USVI',\n",
    "                             'IE': 'USVI', 'NA': 'GU', 'ED': 'USVI',\n",
    "                             'AS': 'USVI', 'TA': 'GU'})"
   ]
  },
  {
   "cell_type": "markdown",
   "id": "1124c780",
   "metadata": {},
   "source": [
    "## Airport Codes Cleaning "
   ]
  },
  {
   "cell_type": "code",
   "execution_count": null,
   "id": "febd8b56",
   "metadata": {},
   "outputs": [],
   "source": [
    "#look at dataset\n",
    "airplane_df.head()\n",
    "\n",
    "# Count the number of NaN values in the 'Airport.Code' column\n",
    "missing_values_count = airplane_df['Airport.Code'].isnull().sum()\n",
    "\n",
    "# Display the count and percentage of missing values\n",
    "total_entries = len(airplane_df['Airport.Code'])\n",
    "percentage_missing = (missing_values_count / total_entries) * 100\n",
    "\n",
    "print(f\"Number of missing values: {missing_values_count}\")\n",
    "print(f\"Percentage of missing values: {percentage_missing:.2f}%\")"
   ]
  },
  {
   "cell_type": "code",
   "execution_count": null,
   "id": "70ba0aa5-9df4-40fa-8c6d-210a1928b9cf",
   "metadata": {},
   "outputs": [],
   "source": [
    "#standardize Airport.Code to all uppercase\n",
    "airplane_df['Airport.Code'] = airplane_df['Airport.Code'].str.upper()\n"
   ]
  },
  {
   "cell_type": "code",
   "execution_count": null,
   "id": "068ac73b-54b2-4e7e-98f9-7fde8b317e0c",
   "metadata": {},
   "outputs": [],
   "source": [
    "# Set the option to display all columns\n",
    "pd.set_option('display.max_columns', None)\n",
    "\n",
    "# Display the first few rows of the DataFrame\n",
    "print(airplane_df.head())\n",
    "\n",
    "# Reset the option to its default value\n",
    "\n",
    "pd.reset_option('display.max_columns')\n",
    "\n"
   ]
  },
  {
   "cell_type": "code",
   "execution_count": null,
   "id": "1d5ee4ee-83eb-4763-b2e9-24d0f759be5e",
   "metadata": {},
   "outputs": [],
   "source": [
    "airplane_df.describe()"
   ]
  },
  {
   "cell_type": "code",
   "execution_count": null,
   "id": "ca22e848-96c2-4e40-b245-3acdde6d87bd",
   "metadata": {},
   "outputs": [],
   "source": [
    "top_makes = airplane_df['Make'].value_counts().head(10).index\n",
    "top_makes_df = airplane_df[airplane_df['Make'].isin(top_makes)]\n",
    "\n",
    "sns.boxplot(x = 'Make', y = 'Total.Fatal.Injuries', data = top_makes_df)\n",
    "plt.show()"
   ]
  }
 ],
 "metadata": {
  "kernelspec": {
   "display_name": "learn-env",
   "language": "python",
   "name": "myenv"
  },
  "language_info": {
   "codemirror_mode": {
    "name": "ipython",
    "version": 3
   },
   "file_extension": ".py",
   "mimetype": "text/x-python",
   "name": "python",
   "nbconvert_exporter": "python",
   "pygments_lexer": "ipython3",
   "version": "3.11.5"
  }
 },
 "nbformat": 4,
 "nbformat_minor": 5
}
